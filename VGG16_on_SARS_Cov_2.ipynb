{
  "cells": [
    {
      "cell_type": "code",
      "execution_count": 1,
      "metadata": {
        "id": "0JgxCSRqbOnc"
      },
      "outputs": [],
      "source": [
        "import pandas as pd\n",
        "import numpy as np\n",
        "import matplotlib.pyplot as plt\n",
        "from sklearn.model_selection import train_test_split"
      ]
    },
    {
      "cell_type": "code",
      "execution_count": 2,
      "metadata": {
        "id": "pCCmTTEmpNNf"
      },
      "outputs": [],
      "source": [
        "import tensorflow as tf\n",
        "import tensorflow.keras as keras\n",
        "import tensorflow.keras.layers as layers\n",
        "import tensorflow.keras.models as model_selection\n",
        "import tensorflow.keras.callbacks as callbacks\n",
        "import tensorflow.keras.optimizers as optimizers"
      ]
    },
    {
      "cell_type": "code",
      "execution_count": 3,
      "metadata": {
        "id": "4mkPofgc6t-z"
      },
      "outputs": [],
      "source": [
        "from keras.applications import VGG16\n",
        "from keras.callbacks import EarlyStopping, TensorBoard, LearningRateScheduler\n",
        "from keras.callbacks import ReduceLROnPlateau, ModelCheckpoint\n",
        "from keras.optimizers import Adam\n",
        "from keras.utils import plot_model"
      ]
    },
    {
      "cell_type": "code",
      "execution_count": 4,
      "metadata": {
        "id": "KorGmjRCvrZX"
      },
      "outputs": [],
      "source": [
        "from tensorflow.keras.preprocessing.image import ImageDataGenerator"
      ]
    },
    {
      "cell_type": "code",
      "execution_count": 5,
      "metadata": {
        "id": "kXwRtE9s3REP"
      },
      "outputs": [],
      "source": [
        "def plot_loss_metrics(history, metrics, validation_metrics=True, all_in_one=False, figsize=(10, 6)):\n",
        "    '''\n",
        "    Plots loss and metric curves from the history object\n",
        "\n",
        "    Args:\n",
        "        history: Tensorflow History object.\\n\n",
        "        metrics: Metrics to plot curves for other than loss.\\n\n",
        "        validation_metrics: {default: True} If False, will not plot metrics for validation data.\\n\n",
        "        all_in_one: {default: False} If True, will plot all curves on a single figure.\\n\n",
        "        figsize: A tuple holding the figure size to plot on.\n",
        "    '''\n",
        "\n",
        "    history_df = pd.DataFrame(history.history)\n",
        "    epochs = range(len(history_df))\n",
        "\n",
        "    plt.figure(figsize=figsize)\n",
        "    history_df['loss'].plot(x=epochs)\n",
        "    if validation_metrics:\n",
        "        history_df['val_loss'].plot(x=epochs)\n",
        "    plt.title('Loss Curve')\n",
        "    plt.ylabel('loss')\n",
        "    plt.xlabel('epochs')\n",
        "    plt.legend()\n",
        "\n",
        "    for metric in metrics:\n",
        "        if not all_in_one:\n",
        "            plt.figure(figsize=figsize)\n",
        "        history_df[metric].plot(x=epochs)\n",
        "        if validation_metrics:\n",
        "            history_df['val_' + metric].plot(x=epochs)\n",
        "        plt.title(metric[0].upper() + metric[1:] + ' Curve')\n",
        "        plt.ylabel(metric)\n",
        "        plt.xlabel('epochs')\n",
        "        plt.legend()"
      ]
    },
    {
      "cell_type": "code",
      "source": [
        "positive = pd.read_csv('/content/drive/MyDrive/Covid-19 CT-Scan Model/Data_2/SARS-Cov-2/COVID.txt', sep=' ')\n",
        "negative = pd.read_csv('/content/drive/MyDrive/Covid-19 CT-Scan Model/Data_2/SARS-Cov-2/non-COVID.txt', sep=' ')\n",
        "negative.tail()"
      ],
      "metadata": {
        "id": "l-X_rkEKHHBM",
        "outputId": "26c47d86-8fef-48d3-8672-57aa85d7d907",
        "colab": {
          "base_uri": "https://localhost:8080/",
          "height": 206
        }
      },
      "execution_count": 6,
      "outputs": [
        {
          "output_type": "execute_result",
          "data": {
            "text/plain": [
              "         Sample                                Filepath       Image   Label\n",
              "1225  non-COVID  ../data/SARS-Cov-2/non-COVID/Non-Covid   (602).png  normal\n",
              "1226  non-COVID  ../data/SARS-Cov-2/non-COVID/Non-Covid   (395).png  normal\n",
              "1227  non-COVID  ../data/SARS-Cov-2/non-COVID/Non-Covid  (1126).png  normal\n",
              "1228  non-COVID  ../data/SARS-Cov-2/non-COVID/Non-Covid   (798).png  normal\n",
              "1229  non-COVID  ../data/SARS-Cov-2/non-COVID/Non-Covid  (1222).png  normal"
            ],
            "text/html": [
              "\n",
              "  <div id=\"df-938ac772-6846-431e-a624-49f149b39944\">\n",
              "    <div class=\"colab-df-container\">\n",
              "      <div>\n",
              "<style scoped>\n",
              "    .dataframe tbody tr th:only-of-type {\n",
              "        vertical-align: middle;\n",
              "    }\n",
              "\n",
              "    .dataframe tbody tr th {\n",
              "        vertical-align: top;\n",
              "    }\n",
              "\n",
              "    .dataframe thead th {\n",
              "        text-align: right;\n",
              "    }\n",
              "</style>\n",
              "<table border=\"1\" class=\"dataframe\">\n",
              "  <thead>\n",
              "    <tr style=\"text-align: right;\">\n",
              "      <th></th>\n",
              "      <th>Sample</th>\n",
              "      <th>Filepath</th>\n",
              "      <th>Image</th>\n",
              "      <th>Label</th>\n",
              "    </tr>\n",
              "  </thead>\n",
              "  <tbody>\n",
              "    <tr>\n",
              "      <th>1225</th>\n",
              "      <td>non-COVID</td>\n",
              "      <td>../data/SARS-Cov-2/non-COVID/Non-Covid</td>\n",
              "      <td>(602).png</td>\n",
              "      <td>normal</td>\n",
              "    </tr>\n",
              "    <tr>\n",
              "      <th>1226</th>\n",
              "      <td>non-COVID</td>\n",
              "      <td>../data/SARS-Cov-2/non-COVID/Non-Covid</td>\n",
              "      <td>(395).png</td>\n",
              "      <td>normal</td>\n",
              "    </tr>\n",
              "    <tr>\n",
              "      <th>1227</th>\n",
              "      <td>non-COVID</td>\n",
              "      <td>../data/SARS-Cov-2/non-COVID/Non-Covid</td>\n",
              "      <td>(1126).png</td>\n",
              "      <td>normal</td>\n",
              "    </tr>\n",
              "    <tr>\n",
              "      <th>1228</th>\n",
              "      <td>non-COVID</td>\n",
              "      <td>../data/SARS-Cov-2/non-COVID/Non-Covid</td>\n",
              "      <td>(798).png</td>\n",
              "      <td>normal</td>\n",
              "    </tr>\n",
              "    <tr>\n",
              "      <th>1229</th>\n",
              "      <td>non-COVID</td>\n",
              "      <td>../data/SARS-Cov-2/non-COVID/Non-Covid</td>\n",
              "      <td>(1222).png</td>\n",
              "      <td>normal</td>\n",
              "    </tr>\n",
              "  </tbody>\n",
              "</table>\n",
              "</div>\n",
              "      <button class=\"colab-df-convert\" onclick=\"convertToInteractive('df-938ac772-6846-431e-a624-49f149b39944')\"\n",
              "              title=\"Convert this dataframe to an interactive table.\"\n",
              "              style=\"display:none;\">\n",
              "        \n",
              "  <svg xmlns=\"http://www.w3.org/2000/svg\" height=\"24px\"viewBox=\"0 0 24 24\"\n",
              "       width=\"24px\">\n",
              "    <path d=\"M0 0h24v24H0V0z\" fill=\"none\"/>\n",
              "    <path d=\"M18.56 5.44l.94 2.06.94-2.06 2.06-.94-2.06-.94-.94-2.06-.94 2.06-2.06.94zm-11 1L8.5 8.5l.94-2.06 2.06-.94-2.06-.94L8.5 2.5l-.94 2.06-2.06.94zm10 10l.94 2.06.94-2.06 2.06-.94-2.06-.94-.94-2.06-.94 2.06-2.06.94z\"/><path d=\"M17.41 7.96l-1.37-1.37c-.4-.4-.92-.59-1.43-.59-.52 0-1.04.2-1.43.59L10.3 9.45l-7.72 7.72c-.78.78-.78 2.05 0 2.83L4 21.41c.39.39.9.59 1.41.59.51 0 1.02-.2 1.41-.59l7.78-7.78 2.81-2.81c.8-.78.8-2.07 0-2.86zM5.41 20L4 18.59l7.72-7.72 1.47 1.35L5.41 20z\"/>\n",
              "  </svg>\n",
              "      </button>\n",
              "      \n",
              "  <style>\n",
              "    .colab-df-container {\n",
              "      display:flex;\n",
              "      flex-wrap:wrap;\n",
              "      gap: 12px;\n",
              "    }\n",
              "\n",
              "    .colab-df-convert {\n",
              "      background-color: #E8F0FE;\n",
              "      border: none;\n",
              "      border-radius: 50%;\n",
              "      cursor: pointer;\n",
              "      display: none;\n",
              "      fill: #1967D2;\n",
              "      height: 32px;\n",
              "      padding: 0 0 0 0;\n",
              "      width: 32px;\n",
              "    }\n",
              "\n",
              "    .colab-df-convert:hover {\n",
              "      background-color: #E2EBFA;\n",
              "      box-shadow: 0px 1px 2px rgba(60, 64, 67, 0.3), 0px 1px 3px 1px rgba(60, 64, 67, 0.15);\n",
              "      fill: #174EA6;\n",
              "    }\n",
              "\n",
              "    [theme=dark] .colab-df-convert {\n",
              "      background-color: #3B4455;\n",
              "      fill: #D2E3FC;\n",
              "    }\n",
              "\n",
              "    [theme=dark] .colab-df-convert:hover {\n",
              "      background-color: #434B5C;\n",
              "      box-shadow: 0px 1px 3px 1px rgba(0, 0, 0, 0.15);\n",
              "      filter: drop-shadow(0px 1px 2px rgba(0, 0, 0, 0.3));\n",
              "      fill: #FFFFFF;\n",
              "    }\n",
              "  </style>\n",
              "\n",
              "      <script>\n",
              "        const buttonEl =\n",
              "          document.querySelector('#df-938ac772-6846-431e-a624-49f149b39944 button.colab-df-convert');\n",
              "        buttonEl.style.display =\n",
              "          google.colab.kernel.accessAllowed ? 'block' : 'none';\n",
              "\n",
              "        async function convertToInteractive(key) {\n",
              "          const element = document.querySelector('#df-938ac772-6846-431e-a624-49f149b39944');\n",
              "          const dataTable =\n",
              "            await google.colab.kernel.invokeFunction('convertToInteractive',\n",
              "                                                     [key], {});\n",
              "          if (!dataTable) return;\n",
              "\n",
              "          const docLinkHtml = 'Like what you see? Visit the ' +\n",
              "            '<a target=\"_blank\" href=https://colab.research.google.com/notebooks/data_table.ipynb>data table notebook</a>'\n",
              "            + ' to learn more about interactive tables.';\n",
              "          element.innerHTML = '';\n",
              "          dataTable['output_type'] = 'display_data';\n",
              "          await google.colab.output.renderOutput(dataTable, element);\n",
              "          const docLink = document.createElement('div');\n",
              "          docLink.innerHTML = docLinkHtml;\n",
              "          element.appendChild(docLink);\n",
              "        }\n",
              "      </script>\n",
              "    </div>\n",
              "  </div>\n",
              "  "
            ]
          },
          "metadata": {},
          "execution_count": 6
        }
      ]
    },
    {
      "cell_type": "code",
      "source": [
        "positive['Filepath'] = '/content/drive/MyDrive/Covid-19 CT-Scan Model/Data_2/SARS-Cov-2/Image_samples'\n",
        "negative['Filepath'] = '/content/drive/MyDrive/Covid-19 CT-Scan Model/Data_2/SARS-Cov-2/Image_samples'\n",
        "positive.head()"
      ],
      "metadata": {
        "id": "g6hpvnh4HG_m",
        "outputId": "51e76d41-7e7f-4f09-b8f9-fa04f9ad958c",
        "colab": {
          "base_uri": "https://localhost:8080/",
          "height": 206
        }
      },
      "execution_count": 7,
      "outputs": [
        {
          "output_type": "execute_result",
          "data": {
            "text/plain": [
              "  Sample                                           Filepath       Image  \\\n",
              "0  COVID  /content/drive/MyDrive/Covid-19 CT-Scan Model/...   (731).png   \n",
              "1  COVID  /content/drive/MyDrive/Covid-19 CT-Scan Model/...  (1013).png   \n",
              "2  COVID  /content/drive/MyDrive/Covid-19 CT-Scan Model/...   (454).png   \n",
              "3  COVID  /content/drive/MyDrive/Covid-19 CT-Scan Model/...   (465).png   \n",
              "4  COVID  /content/drive/MyDrive/Covid-19 CT-Scan Model/...   (982).png   \n",
              "\n",
              "      Label  \n",
              "0  COVID-19  \n",
              "1  COVID-19  \n",
              "2  COVID-19  \n",
              "3  COVID-19  \n",
              "4  COVID-19  "
            ],
            "text/html": [
              "\n",
              "  <div id=\"df-ba474f3f-44a3-4fa7-b337-79bb90b093d8\">\n",
              "    <div class=\"colab-df-container\">\n",
              "      <div>\n",
              "<style scoped>\n",
              "    .dataframe tbody tr th:only-of-type {\n",
              "        vertical-align: middle;\n",
              "    }\n",
              "\n",
              "    .dataframe tbody tr th {\n",
              "        vertical-align: top;\n",
              "    }\n",
              "\n",
              "    .dataframe thead th {\n",
              "        text-align: right;\n",
              "    }\n",
              "</style>\n",
              "<table border=\"1\" class=\"dataframe\">\n",
              "  <thead>\n",
              "    <tr style=\"text-align: right;\">\n",
              "      <th></th>\n",
              "      <th>Sample</th>\n",
              "      <th>Filepath</th>\n",
              "      <th>Image</th>\n",
              "      <th>Label</th>\n",
              "    </tr>\n",
              "  </thead>\n",
              "  <tbody>\n",
              "    <tr>\n",
              "      <th>0</th>\n",
              "      <td>COVID</td>\n",
              "      <td>/content/drive/MyDrive/Covid-19 CT-Scan Model/...</td>\n",
              "      <td>(731).png</td>\n",
              "      <td>COVID-19</td>\n",
              "    </tr>\n",
              "    <tr>\n",
              "      <th>1</th>\n",
              "      <td>COVID</td>\n",
              "      <td>/content/drive/MyDrive/Covid-19 CT-Scan Model/...</td>\n",
              "      <td>(1013).png</td>\n",
              "      <td>COVID-19</td>\n",
              "    </tr>\n",
              "    <tr>\n",
              "      <th>2</th>\n",
              "      <td>COVID</td>\n",
              "      <td>/content/drive/MyDrive/Covid-19 CT-Scan Model/...</td>\n",
              "      <td>(454).png</td>\n",
              "      <td>COVID-19</td>\n",
              "    </tr>\n",
              "    <tr>\n",
              "      <th>3</th>\n",
              "      <td>COVID</td>\n",
              "      <td>/content/drive/MyDrive/Covid-19 CT-Scan Model/...</td>\n",
              "      <td>(465).png</td>\n",
              "      <td>COVID-19</td>\n",
              "    </tr>\n",
              "    <tr>\n",
              "      <th>4</th>\n",
              "      <td>COVID</td>\n",
              "      <td>/content/drive/MyDrive/Covid-19 CT-Scan Model/...</td>\n",
              "      <td>(982).png</td>\n",
              "      <td>COVID-19</td>\n",
              "    </tr>\n",
              "  </tbody>\n",
              "</table>\n",
              "</div>\n",
              "      <button class=\"colab-df-convert\" onclick=\"convertToInteractive('df-ba474f3f-44a3-4fa7-b337-79bb90b093d8')\"\n",
              "              title=\"Convert this dataframe to an interactive table.\"\n",
              "              style=\"display:none;\">\n",
              "        \n",
              "  <svg xmlns=\"http://www.w3.org/2000/svg\" height=\"24px\"viewBox=\"0 0 24 24\"\n",
              "       width=\"24px\">\n",
              "    <path d=\"M0 0h24v24H0V0z\" fill=\"none\"/>\n",
              "    <path d=\"M18.56 5.44l.94 2.06.94-2.06 2.06-.94-2.06-.94-.94-2.06-.94 2.06-2.06.94zm-11 1L8.5 8.5l.94-2.06 2.06-.94-2.06-.94L8.5 2.5l-.94 2.06-2.06.94zm10 10l.94 2.06.94-2.06 2.06-.94-2.06-.94-.94-2.06-.94 2.06-2.06.94z\"/><path d=\"M17.41 7.96l-1.37-1.37c-.4-.4-.92-.59-1.43-.59-.52 0-1.04.2-1.43.59L10.3 9.45l-7.72 7.72c-.78.78-.78 2.05 0 2.83L4 21.41c.39.39.9.59 1.41.59.51 0 1.02-.2 1.41-.59l7.78-7.78 2.81-2.81c.8-.78.8-2.07 0-2.86zM5.41 20L4 18.59l7.72-7.72 1.47 1.35L5.41 20z\"/>\n",
              "  </svg>\n",
              "      </button>\n",
              "      \n",
              "  <style>\n",
              "    .colab-df-container {\n",
              "      display:flex;\n",
              "      flex-wrap:wrap;\n",
              "      gap: 12px;\n",
              "    }\n",
              "\n",
              "    .colab-df-convert {\n",
              "      background-color: #E8F0FE;\n",
              "      border: none;\n",
              "      border-radius: 50%;\n",
              "      cursor: pointer;\n",
              "      display: none;\n",
              "      fill: #1967D2;\n",
              "      height: 32px;\n",
              "      padding: 0 0 0 0;\n",
              "      width: 32px;\n",
              "    }\n",
              "\n",
              "    .colab-df-convert:hover {\n",
              "      background-color: #E2EBFA;\n",
              "      box-shadow: 0px 1px 2px rgba(60, 64, 67, 0.3), 0px 1px 3px 1px rgba(60, 64, 67, 0.15);\n",
              "      fill: #174EA6;\n",
              "    }\n",
              "\n",
              "    [theme=dark] .colab-df-convert {\n",
              "      background-color: #3B4455;\n",
              "      fill: #D2E3FC;\n",
              "    }\n",
              "\n",
              "    [theme=dark] .colab-df-convert:hover {\n",
              "      background-color: #434B5C;\n",
              "      box-shadow: 0px 1px 3px 1px rgba(0, 0, 0, 0.15);\n",
              "      filter: drop-shadow(0px 1px 2px rgba(0, 0, 0, 0.3));\n",
              "      fill: #FFFFFF;\n",
              "    }\n",
              "  </style>\n",
              "\n",
              "      <script>\n",
              "        const buttonEl =\n",
              "          document.querySelector('#df-ba474f3f-44a3-4fa7-b337-79bb90b093d8 button.colab-df-convert');\n",
              "        buttonEl.style.display =\n",
              "          google.colab.kernel.accessAllowed ? 'block' : 'none';\n",
              "\n",
              "        async function convertToInteractive(key) {\n",
              "          const element = document.querySelector('#df-ba474f3f-44a3-4fa7-b337-79bb90b093d8');\n",
              "          const dataTable =\n",
              "            await google.colab.kernel.invokeFunction('convertToInteractive',\n",
              "                                                     [key], {});\n",
              "          if (!dataTable) return;\n",
              "\n",
              "          const docLinkHtml = 'Like what you see? Visit the ' +\n",
              "            '<a target=\"_blank\" href=https://colab.research.google.com/notebooks/data_table.ipynb>data table notebook</a>'\n",
              "            + ' to learn more about interactive tables.';\n",
              "          element.innerHTML = '';\n",
              "          dataTable['output_type'] = 'display_data';\n",
              "          await google.colab.output.renderOutput(dataTable, element);\n",
              "          const docLink = document.createElement('div');\n",
              "          docLink.innerHTML = docLinkHtml;\n",
              "          element.appendChild(docLink);\n",
              "        }\n",
              "      </script>\n",
              "    </div>\n",
              "  </div>\n",
              "  "
            ]
          },
          "metadata": {},
          "execution_count": 7
        }
      ]
    },
    {
      "cell_type": "code",
      "source": [
        "positive['Sample'] = 'Covid'\n",
        "negative['Sample'] = 'Non-Covid'\n",
        "positive.head()"
      ],
      "metadata": {
        "id": "sZBrRuMgHG96",
        "outputId": "d0725463-c1d1-4db5-c810-8b946b925da6",
        "colab": {
          "base_uri": "https://localhost:8080/",
          "height": 206
        }
      },
      "execution_count": 8,
      "outputs": [
        {
          "output_type": "execute_result",
          "data": {
            "text/plain": [
              "  Sample                                           Filepath       Image  \\\n",
              "0  Covid  /content/drive/MyDrive/Covid-19 CT-Scan Model/...   (731).png   \n",
              "1  Covid  /content/drive/MyDrive/Covid-19 CT-Scan Model/...  (1013).png   \n",
              "2  Covid  /content/drive/MyDrive/Covid-19 CT-Scan Model/...   (454).png   \n",
              "3  Covid  /content/drive/MyDrive/Covid-19 CT-Scan Model/...   (465).png   \n",
              "4  Covid  /content/drive/MyDrive/Covid-19 CT-Scan Model/...   (982).png   \n",
              "\n",
              "      Label  \n",
              "0  COVID-19  \n",
              "1  COVID-19  \n",
              "2  COVID-19  \n",
              "3  COVID-19  \n",
              "4  COVID-19  "
            ],
            "text/html": [
              "\n",
              "  <div id=\"df-01137937-0a26-460d-a9e8-eda7cba1404a\">\n",
              "    <div class=\"colab-df-container\">\n",
              "      <div>\n",
              "<style scoped>\n",
              "    .dataframe tbody tr th:only-of-type {\n",
              "        vertical-align: middle;\n",
              "    }\n",
              "\n",
              "    .dataframe tbody tr th {\n",
              "        vertical-align: top;\n",
              "    }\n",
              "\n",
              "    .dataframe thead th {\n",
              "        text-align: right;\n",
              "    }\n",
              "</style>\n",
              "<table border=\"1\" class=\"dataframe\">\n",
              "  <thead>\n",
              "    <tr style=\"text-align: right;\">\n",
              "      <th></th>\n",
              "      <th>Sample</th>\n",
              "      <th>Filepath</th>\n",
              "      <th>Image</th>\n",
              "      <th>Label</th>\n",
              "    </tr>\n",
              "  </thead>\n",
              "  <tbody>\n",
              "    <tr>\n",
              "      <th>0</th>\n",
              "      <td>Covid</td>\n",
              "      <td>/content/drive/MyDrive/Covid-19 CT-Scan Model/...</td>\n",
              "      <td>(731).png</td>\n",
              "      <td>COVID-19</td>\n",
              "    </tr>\n",
              "    <tr>\n",
              "      <th>1</th>\n",
              "      <td>Covid</td>\n",
              "      <td>/content/drive/MyDrive/Covid-19 CT-Scan Model/...</td>\n",
              "      <td>(1013).png</td>\n",
              "      <td>COVID-19</td>\n",
              "    </tr>\n",
              "    <tr>\n",
              "      <th>2</th>\n",
              "      <td>Covid</td>\n",
              "      <td>/content/drive/MyDrive/Covid-19 CT-Scan Model/...</td>\n",
              "      <td>(454).png</td>\n",
              "      <td>COVID-19</td>\n",
              "    </tr>\n",
              "    <tr>\n",
              "      <th>3</th>\n",
              "      <td>Covid</td>\n",
              "      <td>/content/drive/MyDrive/Covid-19 CT-Scan Model/...</td>\n",
              "      <td>(465).png</td>\n",
              "      <td>COVID-19</td>\n",
              "    </tr>\n",
              "    <tr>\n",
              "      <th>4</th>\n",
              "      <td>Covid</td>\n",
              "      <td>/content/drive/MyDrive/Covid-19 CT-Scan Model/...</td>\n",
              "      <td>(982).png</td>\n",
              "      <td>COVID-19</td>\n",
              "    </tr>\n",
              "  </tbody>\n",
              "</table>\n",
              "</div>\n",
              "      <button class=\"colab-df-convert\" onclick=\"convertToInteractive('df-01137937-0a26-460d-a9e8-eda7cba1404a')\"\n",
              "              title=\"Convert this dataframe to an interactive table.\"\n",
              "              style=\"display:none;\">\n",
              "        \n",
              "  <svg xmlns=\"http://www.w3.org/2000/svg\" height=\"24px\"viewBox=\"0 0 24 24\"\n",
              "       width=\"24px\">\n",
              "    <path d=\"M0 0h24v24H0V0z\" fill=\"none\"/>\n",
              "    <path d=\"M18.56 5.44l.94 2.06.94-2.06 2.06-.94-2.06-.94-.94-2.06-.94 2.06-2.06.94zm-11 1L8.5 8.5l.94-2.06 2.06-.94-2.06-.94L8.5 2.5l-.94 2.06-2.06.94zm10 10l.94 2.06.94-2.06 2.06-.94-2.06-.94-.94-2.06-.94 2.06-2.06.94z\"/><path d=\"M17.41 7.96l-1.37-1.37c-.4-.4-.92-.59-1.43-.59-.52 0-1.04.2-1.43.59L10.3 9.45l-7.72 7.72c-.78.78-.78 2.05 0 2.83L4 21.41c.39.39.9.59 1.41.59.51 0 1.02-.2 1.41-.59l7.78-7.78 2.81-2.81c.8-.78.8-2.07 0-2.86zM5.41 20L4 18.59l7.72-7.72 1.47 1.35L5.41 20z\"/>\n",
              "  </svg>\n",
              "      </button>\n",
              "      \n",
              "  <style>\n",
              "    .colab-df-container {\n",
              "      display:flex;\n",
              "      flex-wrap:wrap;\n",
              "      gap: 12px;\n",
              "    }\n",
              "\n",
              "    .colab-df-convert {\n",
              "      background-color: #E8F0FE;\n",
              "      border: none;\n",
              "      border-radius: 50%;\n",
              "      cursor: pointer;\n",
              "      display: none;\n",
              "      fill: #1967D2;\n",
              "      height: 32px;\n",
              "      padding: 0 0 0 0;\n",
              "      width: 32px;\n",
              "    }\n",
              "\n",
              "    .colab-df-convert:hover {\n",
              "      background-color: #E2EBFA;\n",
              "      box-shadow: 0px 1px 2px rgba(60, 64, 67, 0.3), 0px 1px 3px 1px rgba(60, 64, 67, 0.15);\n",
              "      fill: #174EA6;\n",
              "    }\n",
              "\n",
              "    [theme=dark] .colab-df-convert {\n",
              "      background-color: #3B4455;\n",
              "      fill: #D2E3FC;\n",
              "    }\n",
              "\n",
              "    [theme=dark] .colab-df-convert:hover {\n",
              "      background-color: #434B5C;\n",
              "      box-shadow: 0px 1px 3px 1px rgba(0, 0, 0, 0.15);\n",
              "      filter: drop-shadow(0px 1px 2px rgba(0, 0, 0, 0.3));\n",
              "      fill: #FFFFFF;\n",
              "    }\n",
              "  </style>\n",
              "\n",
              "      <script>\n",
              "        const buttonEl =\n",
              "          document.querySelector('#df-01137937-0a26-460d-a9e8-eda7cba1404a button.colab-df-convert');\n",
              "        buttonEl.style.display =\n",
              "          google.colab.kernel.accessAllowed ? 'block' : 'none';\n",
              "\n",
              "        async function convertToInteractive(key) {\n",
              "          const element = document.querySelector('#df-01137937-0a26-460d-a9e8-eda7cba1404a');\n",
              "          const dataTable =\n",
              "            await google.colab.kernel.invokeFunction('convertToInteractive',\n",
              "                                                     [key], {});\n",
              "          if (!dataTable) return;\n",
              "\n",
              "          const docLinkHtml = 'Like what you see? Visit the ' +\n",
              "            '<a target=\"_blank\" href=https://colab.research.google.com/notebooks/data_table.ipynb>data table notebook</a>'\n",
              "            + ' to learn more about interactive tables.';\n",
              "          element.innerHTML = '';\n",
              "          dataTable['output_type'] = 'display_data';\n",
              "          await google.colab.output.renderOutput(dataTable, element);\n",
              "          const docLink = document.createElement('div');\n",
              "          docLink.innerHTML = docLinkHtml;\n",
              "          element.appendChild(docLink);\n",
              "        }\n",
              "      </script>\n",
              "    </div>\n",
              "  </div>\n",
              "  "
            ]
          },
          "metadata": {},
          "execution_count": 8
        }
      ]
    },
    {
      "cell_type": "code",
      "source": [
        "positive['Image'] = positive[['Sample', 'Image']].agg(' '.join, axis=1)\n",
        "negative['Image'] = negative[['Sample', 'Image']].agg(' '.join, axis=1)\n",
        "negative.head()"
      ],
      "metadata": {
        "id": "m7l8ri9DHG6k",
        "outputId": "5e1246ef-7c61-418e-a8be-899b463399f1",
        "colab": {
          "base_uri": "https://localhost:8080/",
          "height": 206
        }
      },
      "execution_count": 9,
      "outputs": [
        {
          "output_type": "execute_result",
          "data": {
            "text/plain": [
              "      Sample                                           Filepath  \\\n",
              "0  Non-Covid  /content/drive/MyDrive/Covid-19 CT-Scan Model/...   \n",
              "1  Non-Covid  /content/drive/MyDrive/Covid-19 CT-Scan Model/...   \n",
              "2  Non-Covid  /content/drive/MyDrive/Covid-19 CT-Scan Model/...   \n",
              "3  Non-Covid  /content/drive/MyDrive/Covid-19 CT-Scan Model/...   \n",
              "4  Non-Covid  /content/drive/MyDrive/Covid-19 CT-Scan Model/...   \n",
              "\n",
              "                  Image   Label  \n",
              "0   Non-Covid (862).png  normal  \n",
              "1   Non-Covid (302).png  normal  \n",
              "2  Non-Covid (1201).png  normal  \n",
              "3   Non-Covid (241).png  normal  \n",
              "4   Non-Covid (183).png  normal  "
            ],
            "text/html": [
              "\n",
              "  <div id=\"df-2de5efca-351d-4a69-bd93-a036d4c4bb45\">\n",
              "    <div class=\"colab-df-container\">\n",
              "      <div>\n",
              "<style scoped>\n",
              "    .dataframe tbody tr th:only-of-type {\n",
              "        vertical-align: middle;\n",
              "    }\n",
              "\n",
              "    .dataframe tbody tr th {\n",
              "        vertical-align: top;\n",
              "    }\n",
              "\n",
              "    .dataframe thead th {\n",
              "        text-align: right;\n",
              "    }\n",
              "</style>\n",
              "<table border=\"1\" class=\"dataframe\">\n",
              "  <thead>\n",
              "    <tr style=\"text-align: right;\">\n",
              "      <th></th>\n",
              "      <th>Sample</th>\n",
              "      <th>Filepath</th>\n",
              "      <th>Image</th>\n",
              "      <th>Label</th>\n",
              "    </tr>\n",
              "  </thead>\n",
              "  <tbody>\n",
              "    <tr>\n",
              "      <th>0</th>\n",
              "      <td>Non-Covid</td>\n",
              "      <td>/content/drive/MyDrive/Covid-19 CT-Scan Model/...</td>\n",
              "      <td>Non-Covid (862).png</td>\n",
              "      <td>normal</td>\n",
              "    </tr>\n",
              "    <tr>\n",
              "      <th>1</th>\n",
              "      <td>Non-Covid</td>\n",
              "      <td>/content/drive/MyDrive/Covid-19 CT-Scan Model/...</td>\n",
              "      <td>Non-Covid (302).png</td>\n",
              "      <td>normal</td>\n",
              "    </tr>\n",
              "    <tr>\n",
              "      <th>2</th>\n",
              "      <td>Non-Covid</td>\n",
              "      <td>/content/drive/MyDrive/Covid-19 CT-Scan Model/...</td>\n",
              "      <td>Non-Covid (1201).png</td>\n",
              "      <td>normal</td>\n",
              "    </tr>\n",
              "    <tr>\n",
              "      <th>3</th>\n",
              "      <td>Non-Covid</td>\n",
              "      <td>/content/drive/MyDrive/Covid-19 CT-Scan Model/...</td>\n",
              "      <td>Non-Covid (241).png</td>\n",
              "      <td>normal</td>\n",
              "    </tr>\n",
              "    <tr>\n",
              "      <th>4</th>\n",
              "      <td>Non-Covid</td>\n",
              "      <td>/content/drive/MyDrive/Covid-19 CT-Scan Model/...</td>\n",
              "      <td>Non-Covid (183).png</td>\n",
              "      <td>normal</td>\n",
              "    </tr>\n",
              "  </tbody>\n",
              "</table>\n",
              "</div>\n",
              "      <button class=\"colab-df-convert\" onclick=\"convertToInteractive('df-2de5efca-351d-4a69-bd93-a036d4c4bb45')\"\n",
              "              title=\"Convert this dataframe to an interactive table.\"\n",
              "              style=\"display:none;\">\n",
              "        \n",
              "  <svg xmlns=\"http://www.w3.org/2000/svg\" height=\"24px\"viewBox=\"0 0 24 24\"\n",
              "       width=\"24px\">\n",
              "    <path d=\"M0 0h24v24H0V0z\" fill=\"none\"/>\n",
              "    <path d=\"M18.56 5.44l.94 2.06.94-2.06 2.06-.94-2.06-.94-.94-2.06-.94 2.06-2.06.94zm-11 1L8.5 8.5l.94-2.06 2.06-.94-2.06-.94L8.5 2.5l-.94 2.06-2.06.94zm10 10l.94 2.06.94-2.06 2.06-.94-2.06-.94-.94-2.06-.94 2.06-2.06.94z\"/><path d=\"M17.41 7.96l-1.37-1.37c-.4-.4-.92-.59-1.43-.59-.52 0-1.04.2-1.43.59L10.3 9.45l-7.72 7.72c-.78.78-.78 2.05 0 2.83L4 21.41c.39.39.9.59 1.41.59.51 0 1.02-.2 1.41-.59l7.78-7.78 2.81-2.81c.8-.78.8-2.07 0-2.86zM5.41 20L4 18.59l7.72-7.72 1.47 1.35L5.41 20z\"/>\n",
              "  </svg>\n",
              "      </button>\n",
              "      \n",
              "  <style>\n",
              "    .colab-df-container {\n",
              "      display:flex;\n",
              "      flex-wrap:wrap;\n",
              "      gap: 12px;\n",
              "    }\n",
              "\n",
              "    .colab-df-convert {\n",
              "      background-color: #E8F0FE;\n",
              "      border: none;\n",
              "      border-radius: 50%;\n",
              "      cursor: pointer;\n",
              "      display: none;\n",
              "      fill: #1967D2;\n",
              "      height: 32px;\n",
              "      padding: 0 0 0 0;\n",
              "      width: 32px;\n",
              "    }\n",
              "\n",
              "    .colab-df-convert:hover {\n",
              "      background-color: #E2EBFA;\n",
              "      box-shadow: 0px 1px 2px rgba(60, 64, 67, 0.3), 0px 1px 3px 1px rgba(60, 64, 67, 0.15);\n",
              "      fill: #174EA6;\n",
              "    }\n",
              "\n",
              "    [theme=dark] .colab-df-convert {\n",
              "      background-color: #3B4455;\n",
              "      fill: #D2E3FC;\n",
              "    }\n",
              "\n",
              "    [theme=dark] .colab-df-convert:hover {\n",
              "      background-color: #434B5C;\n",
              "      box-shadow: 0px 1px 3px 1px rgba(0, 0, 0, 0.15);\n",
              "      filter: drop-shadow(0px 1px 2px rgba(0, 0, 0, 0.3));\n",
              "      fill: #FFFFFF;\n",
              "    }\n",
              "  </style>\n",
              "\n",
              "      <script>\n",
              "        const buttonEl =\n",
              "          document.querySelector('#df-2de5efca-351d-4a69-bd93-a036d4c4bb45 button.colab-df-convert');\n",
              "        buttonEl.style.display =\n",
              "          google.colab.kernel.accessAllowed ? 'block' : 'none';\n",
              "\n",
              "        async function convertToInteractive(key) {\n",
              "          const element = document.querySelector('#df-2de5efca-351d-4a69-bd93-a036d4c4bb45');\n",
              "          const dataTable =\n",
              "            await google.colab.kernel.invokeFunction('convertToInteractive',\n",
              "                                                     [key], {});\n",
              "          if (!dataTable) return;\n",
              "\n",
              "          const docLinkHtml = 'Like what you see? Visit the ' +\n",
              "            '<a target=\"_blank\" href=https://colab.research.google.com/notebooks/data_table.ipynb>data table notebook</a>'\n",
              "            + ' to learn more about interactive tables.';\n",
              "          element.innerHTML = '';\n",
              "          dataTable['output_type'] = 'display_data';\n",
              "          await google.colab.output.renderOutput(dataTable, element);\n",
              "          const docLink = document.createElement('div');\n",
              "          docLink.innerHTML = docLinkHtml;\n",
              "          element.appendChild(docLink);\n",
              "        }\n",
              "      </script>\n",
              "    </div>\n",
              "  </div>\n",
              "  "
            ]
          },
          "metadata": {},
          "execution_count": 9
        }
      ]
    },
    {
      "cell_type": "code",
      "source": [
        "positive['Image'] = positive[['Filepath', 'Image']].agg('/'.join, axis=1)\n",
        "negative['Image'] = negative[['Filepath', 'Image']].agg('/'.join, axis=1)\n",
        "negative.head()"
      ],
      "metadata": {
        "id": "9LF_Smd6HG2w",
        "outputId": "fdc31777-df9d-48a8-a192-e106fff29245",
        "colab": {
          "base_uri": "https://localhost:8080/",
          "height": 206
        }
      },
      "execution_count": 10,
      "outputs": [
        {
          "output_type": "execute_result",
          "data": {
            "text/plain": [
              "      Sample                                           Filepath  \\\n",
              "0  Non-Covid  /content/drive/MyDrive/Covid-19 CT-Scan Model/...   \n",
              "1  Non-Covid  /content/drive/MyDrive/Covid-19 CT-Scan Model/...   \n",
              "2  Non-Covid  /content/drive/MyDrive/Covid-19 CT-Scan Model/...   \n",
              "3  Non-Covid  /content/drive/MyDrive/Covid-19 CT-Scan Model/...   \n",
              "4  Non-Covid  /content/drive/MyDrive/Covid-19 CT-Scan Model/...   \n",
              "\n",
              "                                               Image   Label  \n",
              "0  /content/drive/MyDrive/Covid-19 CT-Scan Model/...  normal  \n",
              "1  /content/drive/MyDrive/Covid-19 CT-Scan Model/...  normal  \n",
              "2  /content/drive/MyDrive/Covid-19 CT-Scan Model/...  normal  \n",
              "3  /content/drive/MyDrive/Covid-19 CT-Scan Model/...  normal  \n",
              "4  /content/drive/MyDrive/Covid-19 CT-Scan Model/...  normal  "
            ],
            "text/html": [
              "\n",
              "  <div id=\"df-ce63b8da-c9b2-4d69-b4c1-e0d307ee73df\">\n",
              "    <div class=\"colab-df-container\">\n",
              "      <div>\n",
              "<style scoped>\n",
              "    .dataframe tbody tr th:only-of-type {\n",
              "        vertical-align: middle;\n",
              "    }\n",
              "\n",
              "    .dataframe tbody tr th {\n",
              "        vertical-align: top;\n",
              "    }\n",
              "\n",
              "    .dataframe thead th {\n",
              "        text-align: right;\n",
              "    }\n",
              "</style>\n",
              "<table border=\"1\" class=\"dataframe\">\n",
              "  <thead>\n",
              "    <tr style=\"text-align: right;\">\n",
              "      <th></th>\n",
              "      <th>Sample</th>\n",
              "      <th>Filepath</th>\n",
              "      <th>Image</th>\n",
              "      <th>Label</th>\n",
              "    </tr>\n",
              "  </thead>\n",
              "  <tbody>\n",
              "    <tr>\n",
              "      <th>0</th>\n",
              "      <td>Non-Covid</td>\n",
              "      <td>/content/drive/MyDrive/Covid-19 CT-Scan Model/...</td>\n",
              "      <td>/content/drive/MyDrive/Covid-19 CT-Scan Model/...</td>\n",
              "      <td>normal</td>\n",
              "    </tr>\n",
              "    <tr>\n",
              "      <th>1</th>\n",
              "      <td>Non-Covid</td>\n",
              "      <td>/content/drive/MyDrive/Covid-19 CT-Scan Model/...</td>\n",
              "      <td>/content/drive/MyDrive/Covid-19 CT-Scan Model/...</td>\n",
              "      <td>normal</td>\n",
              "    </tr>\n",
              "    <tr>\n",
              "      <th>2</th>\n",
              "      <td>Non-Covid</td>\n",
              "      <td>/content/drive/MyDrive/Covid-19 CT-Scan Model/...</td>\n",
              "      <td>/content/drive/MyDrive/Covid-19 CT-Scan Model/...</td>\n",
              "      <td>normal</td>\n",
              "    </tr>\n",
              "    <tr>\n",
              "      <th>3</th>\n",
              "      <td>Non-Covid</td>\n",
              "      <td>/content/drive/MyDrive/Covid-19 CT-Scan Model/...</td>\n",
              "      <td>/content/drive/MyDrive/Covid-19 CT-Scan Model/...</td>\n",
              "      <td>normal</td>\n",
              "    </tr>\n",
              "    <tr>\n",
              "      <th>4</th>\n",
              "      <td>Non-Covid</td>\n",
              "      <td>/content/drive/MyDrive/Covid-19 CT-Scan Model/...</td>\n",
              "      <td>/content/drive/MyDrive/Covid-19 CT-Scan Model/...</td>\n",
              "      <td>normal</td>\n",
              "    </tr>\n",
              "  </tbody>\n",
              "</table>\n",
              "</div>\n",
              "      <button class=\"colab-df-convert\" onclick=\"convertToInteractive('df-ce63b8da-c9b2-4d69-b4c1-e0d307ee73df')\"\n",
              "              title=\"Convert this dataframe to an interactive table.\"\n",
              "              style=\"display:none;\">\n",
              "        \n",
              "  <svg xmlns=\"http://www.w3.org/2000/svg\" height=\"24px\"viewBox=\"0 0 24 24\"\n",
              "       width=\"24px\">\n",
              "    <path d=\"M0 0h24v24H0V0z\" fill=\"none\"/>\n",
              "    <path d=\"M18.56 5.44l.94 2.06.94-2.06 2.06-.94-2.06-.94-.94-2.06-.94 2.06-2.06.94zm-11 1L8.5 8.5l.94-2.06 2.06-.94-2.06-.94L8.5 2.5l-.94 2.06-2.06.94zm10 10l.94 2.06.94-2.06 2.06-.94-2.06-.94-.94-2.06-.94 2.06-2.06.94z\"/><path d=\"M17.41 7.96l-1.37-1.37c-.4-.4-.92-.59-1.43-.59-.52 0-1.04.2-1.43.59L10.3 9.45l-7.72 7.72c-.78.78-.78 2.05 0 2.83L4 21.41c.39.39.9.59 1.41.59.51 0 1.02-.2 1.41-.59l7.78-7.78 2.81-2.81c.8-.78.8-2.07 0-2.86zM5.41 20L4 18.59l7.72-7.72 1.47 1.35L5.41 20z\"/>\n",
              "  </svg>\n",
              "      </button>\n",
              "      \n",
              "  <style>\n",
              "    .colab-df-container {\n",
              "      display:flex;\n",
              "      flex-wrap:wrap;\n",
              "      gap: 12px;\n",
              "    }\n",
              "\n",
              "    .colab-df-convert {\n",
              "      background-color: #E8F0FE;\n",
              "      border: none;\n",
              "      border-radius: 50%;\n",
              "      cursor: pointer;\n",
              "      display: none;\n",
              "      fill: #1967D2;\n",
              "      height: 32px;\n",
              "      padding: 0 0 0 0;\n",
              "      width: 32px;\n",
              "    }\n",
              "\n",
              "    .colab-df-convert:hover {\n",
              "      background-color: #E2EBFA;\n",
              "      box-shadow: 0px 1px 2px rgba(60, 64, 67, 0.3), 0px 1px 3px 1px rgba(60, 64, 67, 0.15);\n",
              "      fill: #174EA6;\n",
              "    }\n",
              "\n",
              "    [theme=dark] .colab-df-convert {\n",
              "      background-color: #3B4455;\n",
              "      fill: #D2E3FC;\n",
              "    }\n",
              "\n",
              "    [theme=dark] .colab-df-convert:hover {\n",
              "      background-color: #434B5C;\n",
              "      box-shadow: 0px 1px 3px 1px rgba(0, 0, 0, 0.15);\n",
              "      filter: drop-shadow(0px 1px 2px rgba(0, 0, 0, 0.3));\n",
              "      fill: #FFFFFF;\n",
              "    }\n",
              "  </style>\n",
              "\n",
              "      <script>\n",
              "        const buttonEl =\n",
              "          document.querySelector('#df-ce63b8da-c9b2-4d69-b4c1-e0d307ee73df button.colab-df-convert');\n",
              "        buttonEl.style.display =\n",
              "          google.colab.kernel.accessAllowed ? 'block' : 'none';\n",
              "\n",
              "        async function convertToInteractive(key) {\n",
              "          const element = document.querySelector('#df-ce63b8da-c9b2-4d69-b4c1-e0d307ee73df');\n",
              "          const dataTable =\n",
              "            await google.colab.kernel.invokeFunction('convertToInteractive',\n",
              "                                                     [key], {});\n",
              "          if (!dataTable) return;\n",
              "\n",
              "          const docLinkHtml = 'Like what you see? Visit the ' +\n",
              "            '<a target=\"_blank\" href=https://colab.research.google.com/notebooks/data_table.ipynb>data table notebook</a>'\n",
              "            + ' to learn more about interactive tables.';\n",
              "          element.innerHTML = '';\n",
              "          dataTable['output_type'] = 'display_data';\n",
              "          await google.colab.output.renderOutput(dataTable, element);\n",
              "          const docLink = document.createElement('div');\n",
              "          docLink.innerHTML = docLinkHtml;\n",
              "          element.appendChild(docLink);\n",
              "        }\n",
              "      </script>\n",
              "    </div>\n",
              "  </div>\n",
              "  "
            ]
          },
          "metadata": {},
          "execution_count": 10
        }
      ]
    },
    {
      "cell_type": "code",
      "source": [
        "positive.drop('Filepath', inplace=True, axis=1)\n",
        "negative.drop('Filepath', inplace=True, axis=1)\n",
        "\n",
        "positive.tail()"
      ],
      "metadata": {
        "id": "lfmWUNd1HG03",
        "outputId": "6581ef88-d0f8-4708-ef78-7afcf40fbedb",
        "colab": {
          "base_uri": "https://localhost:8080/",
          "height": 206
        }
      },
      "execution_count": 11,
      "outputs": [
        {
          "output_type": "execute_result",
          "data": {
            "text/plain": [
              "     Sample                                              Image     Label\n",
              "1247  Covid  /content/drive/MyDrive/Covid-19 CT-Scan Model/...  COVID-19\n",
              "1248  Covid  /content/drive/MyDrive/Covid-19 CT-Scan Model/...  COVID-19\n",
              "1249  Covid  /content/drive/MyDrive/Covid-19 CT-Scan Model/...  COVID-19\n",
              "1250  Covid  /content/drive/MyDrive/Covid-19 CT-Scan Model/...  COVID-19\n",
              "1251  Covid  /content/drive/MyDrive/Covid-19 CT-Scan Model/...  COVID-19"
            ],
            "text/html": [
              "\n",
              "  <div id=\"df-316b1400-16f7-416e-9eca-9d4041d97536\">\n",
              "    <div class=\"colab-df-container\">\n",
              "      <div>\n",
              "<style scoped>\n",
              "    .dataframe tbody tr th:only-of-type {\n",
              "        vertical-align: middle;\n",
              "    }\n",
              "\n",
              "    .dataframe tbody tr th {\n",
              "        vertical-align: top;\n",
              "    }\n",
              "\n",
              "    .dataframe thead th {\n",
              "        text-align: right;\n",
              "    }\n",
              "</style>\n",
              "<table border=\"1\" class=\"dataframe\">\n",
              "  <thead>\n",
              "    <tr style=\"text-align: right;\">\n",
              "      <th></th>\n",
              "      <th>Sample</th>\n",
              "      <th>Image</th>\n",
              "      <th>Label</th>\n",
              "    </tr>\n",
              "  </thead>\n",
              "  <tbody>\n",
              "    <tr>\n",
              "      <th>1247</th>\n",
              "      <td>Covid</td>\n",
              "      <td>/content/drive/MyDrive/Covid-19 CT-Scan Model/...</td>\n",
              "      <td>COVID-19</td>\n",
              "    </tr>\n",
              "    <tr>\n",
              "      <th>1248</th>\n",
              "      <td>Covid</td>\n",
              "      <td>/content/drive/MyDrive/Covid-19 CT-Scan Model/...</td>\n",
              "      <td>COVID-19</td>\n",
              "    </tr>\n",
              "    <tr>\n",
              "      <th>1249</th>\n",
              "      <td>Covid</td>\n",
              "      <td>/content/drive/MyDrive/Covid-19 CT-Scan Model/...</td>\n",
              "      <td>COVID-19</td>\n",
              "    </tr>\n",
              "    <tr>\n",
              "      <th>1250</th>\n",
              "      <td>Covid</td>\n",
              "      <td>/content/drive/MyDrive/Covid-19 CT-Scan Model/...</td>\n",
              "      <td>COVID-19</td>\n",
              "    </tr>\n",
              "    <tr>\n",
              "      <th>1251</th>\n",
              "      <td>Covid</td>\n",
              "      <td>/content/drive/MyDrive/Covid-19 CT-Scan Model/...</td>\n",
              "      <td>COVID-19</td>\n",
              "    </tr>\n",
              "  </tbody>\n",
              "</table>\n",
              "</div>\n",
              "      <button class=\"colab-df-convert\" onclick=\"convertToInteractive('df-316b1400-16f7-416e-9eca-9d4041d97536')\"\n",
              "              title=\"Convert this dataframe to an interactive table.\"\n",
              "              style=\"display:none;\">\n",
              "        \n",
              "  <svg xmlns=\"http://www.w3.org/2000/svg\" height=\"24px\"viewBox=\"0 0 24 24\"\n",
              "       width=\"24px\">\n",
              "    <path d=\"M0 0h24v24H0V0z\" fill=\"none\"/>\n",
              "    <path d=\"M18.56 5.44l.94 2.06.94-2.06 2.06-.94-2.06-.94-.94-2.06-.94 2.06-2.06.94zm-11 1L8.5 8.5l.94-2.06 2.06-.94-2.06-.94L8.5 2.5l-.94 2.06-2.06.94zm10 10l.94 2.06.94-2.06 2.06-.94-2.06-.94-.94-2.06-.94 2.06-2.06.94z\"/><path d=\"M17.41 7.96l-1.37-1.37c-.4-.4-.92-.59-1.43-.59-.52 0-1.04.2-1.43.59L10.3 9.45l-7.72 7.72c-.78.78-.78 2.05 0 2.83L4 21.41c.39.39.9.59 1.41.59.51 0 1.02-.2 1.41-.59l7.78-7.78 2.81-2.81c.8-.78.8-2.07 0-2.86zM5.41 20L4 18.59l7.72-7.72 1.47 1.35L5.41 20z\"/>\n",
              "  </svg>\n",
              "      </button>\n",
              "      \n",
              "  <style>\n",
              "    .colab-df-container {\n",
              "      display:flex;\n",
              "      flex-wrap:wrap;\n",
              "      gap: 12px;\n",
              "    }\n",
              "\n",
              "    .colab-df-convert {\n",
              "      background-color: #E8F0FE;\n",
              "      border: none;\n",
              "      border-radius: 50%;\n",
              "      cursor: pointer;\n",
              "      display: none;\n",
              "      fill: #1967D2;\n",
              "      height: 32px;\n",
              "      padding: 0 0 0 0;\n",
              "      width: 32px;\n",
              "    }\n",
              "\n",
              "    .colab-df-convert:hover {\n",
              "      background-color: #E2EBFA;\n",
              "      box-shadow: 0px 1px 2px rgba(60, 64, 67, 0.3), 0px 1px 3px 1px rgba(60, 64, 67, 0.15);\n",
              "      fill: #174EA6;\n",
              "    }\n",
              "\n",
              "    [theme=dark] .colab-df-convert {\n",
              "      background-color: #3B4455;\n",
              "      fill: #D2E3FC;\n",
              "    }\n",
              "\n",
              "    [theme=dark] .colab-df-convert:hover {\n",
              "      background-color: #434B5C;\n",
              "      box-shadow: 0px 1px 3px 1px rgba(0, 0, 0, 0.15);\n",
              "      filter: drop-shadow(0px 1px 2px rgba(0, 0, 0, 0.3));\n",
              "      fill: #FFFFFF;\n",
              "    }\n",
              "  </style>\n",
              "\n",
              "      <script>\n",
              "        const buttonEl =\n",
              "          document.querySelector('#df-316b1400-16f7-416e-9eca-9d4041d97536 button.colab-df-convert');\n",
              "        buttonEl.style.display =\n",
              "          google.colab.kernel.accessAllowed ? 'block' : 'none';\n",
              "\n",
              "        async function convertToInteractive(key) {\n",
              "          const element = document.querySelector('#df-316b1400-16f7-416e-9eca-9d4041d97536');\n",
              "          const dataTable =\n",
              "            await google.colab.kernel.invokeFunction('convertToInteractive',\n",
              "                                                     [key], {});\n",
              "          if (!dataTable) return;\n",
              "\n",
              "          const docLinkHtml = 'Like what you see? Visit the ' +\n",
              "            '<a target=\"_blank\" href=https://colab.research.google.com/notebooks/data_table.ipynb>data table notebook</a>'\n",
              "            + ' to learn more about interactive tables.';\n",
              "          element.innerHTML = '';\n",
              "          dataTable['output_type'] = 'display_data';\n",
              "          await google.colab.output.renderOutput(dataTable, element);\n",
              "          const docLink = document.createElement('div');\n",
              "          docLink.innerHTML = docLinkHtml;\n",
              "          element.appendChild(docLink);\n",
              "        }\n",
              "      </script>\n",
              "    </div>\n",
              "  </div>\n",
              "  "
            ]
          },
          "metadata": {},
          "execution_count": 11
        }
      ]
    },
    {
      "cell_type": "code",
      "source": [
        "positive['Label'] = 1\n",
        "negative['Label'] = 0\n",
        "positive.head()"
      ],
      "metadata": {
        "id": "m2jAoTxvHGxL",
        "outputId": "dc132b86-b3ba-413e-ae04-99c422b4b897",
        "colab": {
          "base_uri": "https://localhost:8080/",
          "height": 206
        }
      },
      "execution_count": 12,
      "outputs": [
        {
          "output_type": "execute_result",
          "data": {
            "text/plain": [
              "  Sample                                              Image  Label\n",
              "0  Covid  /content/drive/MyDrive/Covid-19 CT-Scan Model/...      1\n",
              "1  Covid  /content/drive/MyDrive/Covid-19 CT-Scan Model/...      1\n",
              "2  Covid  /content/drive/MyDrive/Covid-19 CT-Scan Model/...      1\n",
              "3  Covid  /content/drive/MyDrive/Covid-19 CT-Scan Model/...      1\n",
              "4  Covid  /content/drive/MyDrive/Covid-19 CT-Scan Model/...      1"
            ],
            "text/html": [
              "\n",
              "  <div id=\"df-f5b0f42a-3caf-434f-8d78-b532b747c237\">\n",
              "    <div class=\"colab-df-container\">\n",
              "      <div>\n",
              "<style scoped>\n",
              "    .dataframe tbody tr th:only-of-type {\n",
              "        vertical-align: middle;\n",
              "    }\n",
              "\n",
              "    .dataframe tbody tr th {\n",
              "        vertical-align: top;\n",
              "    }\n",
              "\n",
              "    .dataframe thead th {\n",
              "        text-align: right;\n",
              "    }\n",
              "</style>\n",
              "<table border=\"1\" class=\"dataframe\">\n",
              "  <thead>\n",
              "    <tr style=\"text-align: right;\">\n",
              "      <th></th>\n",
              "      <th>Sample</th>\n",
              "      <th>Image</th>\n",
              "      <th>Label</th>\n",
              "    </tr>\n",
              "  </thead>\n",
              "  <tbody>\n",
              "    <tr>\n",
              "      <th>0</th>\n",
              "      <td>Covid</td>\n",
              "      <td>/content/drive/MyDrive/Covid-19 CT-Scan Model/...</td>\n",
              "      <td>1</td>\n",
              "    </tr>\n",
              "    <tr>\n",
              "      <th>1</th>\n",
              "      <td>Covid</td>\n",
              "      <td>/content/drive/MyDrive/Covid-19 CT-Scan Model/...</td>\n",
              "      <td>1</td>\n",
              "    </tr>\n",
              "    <tr>\n",
              "      <th>2</th>\n",
              "      <td>Covid</td>\n",
              "      <td>/content/drive/MyDrive/Covid-19 CT-Scan Model/...</td>\n",
              "      <td>1</td>\n",
              "    </tr>\n",
              "    <tr>\n",
              "      <th>3</th>\n",
              "      <td>Covid</td>\n",
              "      <td>/content/drive/MyDrive/Covid-19 CT-Scan Model/...</td>\n",
              "      <td>1</td>\n",
              "    </tr>\n",
              "    <tr>\n",
              "      <th>4</th>\n",
              "      <td>Covid</td>\n",
              "      <td>/content/drive/MyDrive/Covid-19 CT-Scan Model/...</td>\n",
              "      <td>1</td>\n",
              "    </tr>\n",
              "  </tbody>\n",
              "</table>\n",
              "</div>\n",
              "      <button class=\"colab-df-convert\" onclick=\"convertToInteractive('df-f5b0f42a-3caf-434f-8d78-b532b747c237')\"\n",
              "              title=\"Convert this dataframe to an interactive table.\"\n",
              "              style=\"display:none;\">\n",
              "        \n",
              "  <svg xmlns=\"http://www.w3.org/2000/svg\" height=\"24px\"viewBox=\"0 0 24 24\"\n",
              "       width=\"24px\">\n",
              "    <path d=\"M0 0h24v24H0V0z\" fill=\"none\"/>\n",
              "    <path d=\"M18.56 5.44l.94 2.06.94-2.06 2.06-.94-2.06-.94-.94-2.06-.94 2.06-2.06.94zm-11 1L8.5 8.5l.94-2.06 2.06-.94-2.06-.94L8.5 2.5l-.94 2.06-2.06.94zm10 10l.94 2.06.94-2.06 2.06-.94-2.06-.94-.94-2.06-.94 2.06-2.06.94z\"/><path d=\"M17.41 7.96l-1.37-1.37c-.4-.4-.92-.59-1.43-.59-.52 0-1.04.2-1.43.59L10.3 9.45l-7.72 7.72c-.78.78-.78 2.05 0 2.83L4 21.41c.39.39.9.59 1.41.59.51 0 1.02-.2 1.41-.59l7.78-7.78 2.81-2.81c.8-.78.8-2.07 0-2.86zM5.41 20L4 18.59l7.72-7.72 1.47 1.35L5.41 20z\"/>\n",
              "  </svg>\n",
              "      </button>\n",
              "      \n",
              "  <style>\n",
              "    .colab-df-container {\n",
              "      display:flex;\n",
              "      flex-wrap:wrap;\n",
              "      gap: 12px;\n",
              "    }\n",
              "\n",
              "    .colab-df-convert {\n",
              "      background-color: #E8F0FE;\n",
              "      border: none;\n",
              "      border-radius: 50%;\n",
              "      cursor: pointer;\n",
              "      display: none;\n",
              "      fill: #1967D2;\n",
              "      height: 32px;\n",
              "      padding: 0 0 0 0;\n",
              "      width: 32px;\n",
              "    }\n",
              "\n",
              "    .colab-df-convert:hover {\n",
              "      background-color: #E2EBFA;\n",
              "      box-shadow: 0px 1px 2px rgba(60, 64, 67, 0.3), 0px 1px 3px 1px rgba(60, 64, 67, 0.15);\n",
              "      fill: #174EA6;\n",
              "    }\n",
              "\n",
              "    [theme=dark] .colab-df-convert {\n",
              "      background-color: #3B4455;\n",
              "      fill: #D2E3FC;\n",
              "    }\n",
              "\n",
              "    [theme=dark] .colab-df-convert:hover {\n",
              "      background-color: #434B5C;\n",
              "      box-shadow: 0px 1px 3px 1px rgba(0, 0, 0, 0.15);\n",
              "      filter: drop-shadow(0px 1px 2px rgba(0, 0, 0, 0.3));\n",
              "      fill: #FFFFFF;\n",
              "    }\n",
              "  </style>\n",
              "\n",
              "      <script>\n",
              "        const buttonEl =\n",
              "          document.querySelector('#df-f5b0f42a-3caf-434f-8d78-b532b747c237 button.colab-df-convert');\n",
              "        buttonEl.style.display =\n",
              "          google.colab.kernel.accessAllowed ? 'block' : 'none';\n",
              "\n",
              "        async function convertToInteractive(key) {\n",
              "          const element = document.querySelector('#df-f5b0f42a-3caf-434f-8d78-b532b747c237');\n",
              "          const dataTable =\n",
              "            await google.colab.kernel.invokeFunction('convertToInteractive',\n",
              "                                                     [key], {});\n",
              "          if (!dataTable) return;\n",
              "\n",
              "          const docLinkHtml = 'Like what you see? Visit the ' +\n",
              "            '<a target=\"_blank\" href=https://colab.research.google.com/notebooks/data_table.ipynb>data table notebook</a>'\n",
              "            + ' to learn more about interactive tables.';\n",
              "          element.innerHTML = '';\n",
              "          dataTable['output_type'] = 'display_data';\n",
              "          await google.colab.output.renderOutput(dataTable, element);\n",
              "          const docLink = document.createElement('div');\n",
              "          docLink.innerHTML = docLinkHtml;\n",
              "          element.appendChild(docLink);\n",
              "        }\n",
              "      </script>\n",
              "    </div>\n",
              "  </div>\n",
              "  "
            ]
          },
          "metadata": {},
          "execution_count": 12
        }
      ]
    },
    {
      "cell_type": "code",
      "source": [
        "datapath = pd.concat([positive, negative], ignore_index=1)\n",
        "datapath"
      ],
      "metadata": {
        "id": "dmGgnO1eL762",
        "outputId": "60da8a21-529e-4107-ae96-5e16d5262851",
        "colab": {
          "base_uri": "https://localhost:8080/",
          "height": 424
        }
      },
      "execution_count": 13,
      "outputs": [
        {
          "output_type": "execute_result",
          "data": {
            "text/plain": [
              "         Sample                                              Image  Label\n",
              "0         Covid  /content/drive/MyDrive/Covid-19 CT-Scan Model/...      1\n",
              "1         Covid  /content/drive/MyDrive/Covid-19 CT-Scan Model/...      1\n",
              "2         Covid  /content/drive/MyDrive/Covid-19 CT-Scan Model/...      1\n",
              "3         Covid  /content/drive/MyDrive/Covid-19 CT-Scan Model/...      1\n",
              "4         Covid  /content/drive/MyDrive/Covid-19 CT-Scan Model/...      1\n",
              "...         ...                                                ...    ...\n",
              "2477  Non-Covid  /content/drive/MyDrive/Covid-19 CT-Scan Model/...      0\n",
              "2478  Non-Covid  /content/drive/MyDrive/Covid-19 CT-Scan Model/...      0\n",
              "2479  Non-Covid  /content/drive/MyDrive/Covid-19 CT-Scan Model/...      0\n",
              "2480  Non-Covid  /content/drive/MyDrive/Covid-19 CT-Scan Model/...      0\n",
              "2481  Non-Covid  /content/drive/MyDrive/Covid-19 CT-Scan Model/...      0\n",
              "\n",
              "[2482 rows x 3 columns]"
            ],
            "text/html": [
              "\n",
              "  <div id=\"df-6aefe6a5-5195-4bf6-8464-fac3b4ca2eff\">\n",
              "    <div class=\"colab-df-container\">\n",
              "      <div>\n",
              "<style scoped>\n",
              "    .dataframe tbody tr th:only-of-type {\n",
              "        vertical-align: middle;\n",
              "    }\n",
              "\n",
              "    .dataframe tbody tr th {\n",
              "        vertical-align: top;\n",
              "    }\n",
              "\n",
              "    .dataframe thead th {\n",
              "        text-align: right;\n",
              "    }\n",
              "</style>\n",
              "<table border=\"1\" class=\"dataframe\">\n",
              "  <thead>\n",
              "    <tr style=\"text-align: right;\">\n",
              "      <th></th>\n",
              "      <th>Sample</th>\n",
              "      <th>Image</th>\n",
              "      <th>Label</th>\n",
              "    </tr>\n",
              "  </thead>\n",
              "  <tbody>\n",
              "    <tr>\n",
              "      <th>0</th>\n",
              "      <td>Covid</td>\n",
              "      <td>/content/drive/MyDrive/Covid-19 CT-Scan Model/...</td>\n",
              "      <td>1</td>\n",
              "    </tr>\n",
              "    <tr>\n",
              "      <th>1</th>\n",
              "      <td>Covid</td>\n",
              "      <td>/content/drive/MyDrive/Covid-19 CT-Scan Model/...</td>\n",
              "      <td>1</td>\n",
              "    </tr>\n",
              "    <tr>\n",
              "      <th>2</th>\n",
              "      <td>Covid</td>\n",
              "      <td>/content/drive/MyDrive/Covid-19 CT-Scan Model/...</td>\n",
              "      <td>1</td>\n",
              "    </tr>\n",
              "    <tr>\n",
              "      <th>3</th>\n",
              "      <td>Covid</td>\n",
              "      <td>/content/drive/MyDrive/Covid-19 CT-Scan Model/...</td>\n",
              "      <td>1</td>\n",
              "    </tr>\n",
              "    <tr>\n",
              "      <th>4</th>\n",
              "      <td>Covid</td>\n",
              "      <td>/content/drive/MyDrive/Covid-19 CT-Scan Model/...</td>\n",
              "      <td>1</td>\n",
              "    </tr>\n",
              "    <tr>\n",
              "      <th>...</th>\n",
              "      <td>...</td>\n",
              "      <td>...</td>\n",
              "      <td>...</td>\n",
              "    </tr>\n",
              "    <tr>\n",
              "      <th>2477</th>\n",
              "      <td>Non-Covid</td>\n",
              "      <td>/content/drive/MyDrive/Covid-19 CT-Scan Model/...</td>\n",
              "      <td>0</td>\n",
              "    </tr>\n",
              "    <tr>\n",
              "      <th>2478</th>\n",
              "      <td>Non-Covid</td>\n",
              "      <td>/content/drive/MyDrive/Covid-19 CT-Scan Model/...</td>\n",
              "      <td>0</td>\n",
              "    </tr>\n",
              "    <tr>\n",
              "      <th>2479</th>\n",
              "      <td>Non-Covid</td>\n",
              "      <td>/content/drive/MyDrive/Covid-19 CT-Scan Model/...</td>\n",
              "      <td>0</td>\n",
              "    </tr>\n",
              "    <tr>\n",
              "      <th>2480</th>\n",
              "      <td>Non-Covid</td>\n",
              "      <td>/content/drive/MyDrive/Covid-19 CT-Scan Model/...</td>\n",
              "      <td>0</td>\n",
              "    </tr>\n",
              "    <tr>\n",
              "      <th>2481</th>\n",
              "      <td>Non-Covid</td>\n",
              "      <td>/content/drive/MyDrive/Covid-19 CT-Scan Model/...</td>\n",
              "      <td>0</td>\n",
              "    </tr>\n",
              "  </tbody>\n",
              "</table>\n",
              "<p>2482 rows × 3 columns</p>\n",
              "</div>\n",
              "      <button class=\"colab-df-convert\" onclick=\"convertToInteractive('df-6aefe6a5-5195-4bf6-8464-fac3b4ca2eff')\"\n",
              "              title=\"Convert this dataframe to an interactive table.\"\n",
              "              style=\"display:none;\">\n",
              "        \n",
              "  <svg xmlns=\"http://www.w3.org/2000/svg\" height=\"24px\"viewBox=\"0 0 24 24\"\n",
              "       width=\"24px\">\n",
              "    <path d=\"M0 0h24v24H0V0z\" fill=\"none\"/>\n",
              "    <path d=\"M18.56 5.44l.94 2.06.94-2.06 2.06-.94-2.06-.94-.94-2.06-.94 2.06-2.06.94zm-11 1L8.5 8.5l.94-2.06 2.06-.94-2.06-.94L8.5 2.5l-.94 2.06-2.06.94zm10 10l.94 2.06.94-2.06 2.06-.94-2.06-.94-.94-2.06-.94 2.06-2.06.94z\"/><path d=\"M17.41 7.96l-1.37-1.37c-.4-.4-.92-.59-1.43-.59-.52 0-1.04.2-1.43.59L10.3 9.45l-7.72 7.72c-.78.78-.78 2.05 0 2.83L4 21.41c.39.39.9.59 1.41.59.51 0 1.02-.2 1.41-.59l7.78-7.78 2.81-2.81c.8-.78.8-2.07 0-2.86zM5.41 20L4 18.59l7.72-7.72 1.47 1.35L5.41 20z\"/>\n",
              "  </svg>\n",
              "      </button>\n",
              "      \n",
              "  <style>\n",
              "    .colab-df-container {\n",
              "      display:flex;\n",
              "      flex-wrap:wrap;\n",
              "      gap: 12px;\n",
              "    }\n",
              "\n",
              "    .colab-df-convert {\n",
              "      background-color: #E8F0FE;\n",
              "      border: none;\n",
              "      border-radius: 50%;\n",
              "      cursor: pointer;\n",
              "      display: none;\n",
              "      fill: #1967D2;\n",
              "      height: 32px;\n",
              "      padding: 0 0 0 0;\n",
              "      width: 32px;\n",
              "    }\n",
              "\n",
              "    .colab-df-convert:hover {\n",
              "      background-color: #E2EBFA;\n",
              "      box-shadow: 0px 1px 2px rgba(60, 64, 67, 0.3), 0px 1px 3px 1px rgba(60, 64, 67, 0.15);\n",
              "      fill: #174EA6;\n",
              "    }\n",
              "\n",
              "    [theme=dark] .colab-df-convert {\n",
              "      background-color: #3B4455;\n",
              "      fill: #D2E3FC;\n",
              "    }\n",
              "\n",
              "    [theme=dark] .colab-df-convert:hover {\n",
              "      background-color: #434B5C;\n",
              "      box-shadow: 0px 1px 3px 1px rgba(0, 0, 0, 0.15);\n",
              "      filter: drop-shadow(0px 1px 2px rgba(0, 0, 0, 0.3));\n",
              "      fill: #FFFFFF;\n",
              "    }\n",
              "  </style>\n",
              "\n",
              "      <script>\n",
              "        const buttonEl =\n",
              "          document.querySelector('#df-6aefe6a5-5195-4bf6-8464-fac3b4ca2eff button.colab-df-convert');\n",
              "        buttonEl.style.display =\n",
              "          google.colab.kernel.accessAllowed ? 'block' : 'none';\n",
              "\n",
              "        async function convertToInteractive(key) {\n",
              "          const element = document.querySelector('#df-6aefe6a5-5195-4bf6-8464-fac3b4ca2eff');\n",
              "          const dataTable =\n",
              "            await google.colab.kernel.invokeFunction('convertToInteractive',\n",
              "                                                     [key], {});\n",
              "          if (!dataTable) return;\n",
              "\n",
              "          const docLinkHtml = 'Like what you see? Visit the ' +\n",
              "            '<a target=\"_blank\" href=https://colab.research.google.com/notebooks/data_table.ipynb>data table notebook</a>'\n",
              "            + ' to learn more about interactive tables.';\n",
              "          element.innerHTML = '';\n",
              "          dataTable['output_type'] = 'display_data';\n",
              "          await google.colab.output.renderOutput(dataTable, element);\n",
              "          const docLink = document.createElement('div');\n",
              "          docLink.innerHTML = docLinkHtml;\n",
              "          element.appendChild(docLink);\n",
              "        }\n",
              "      </script>\n",
              "    </div>\n",
              "  </div>\n",
              "  "
            ]
          },
          "metadata": {},
          "execution_count": 13
        }
      ]
    },
    {
      "cell_type": "code",
      "source": [
        "np.random.seed(42)\n",
        "datapath = pd.DataFrame.sample(datapath,\n",
        "                               n=2482,\n",
        "                               ignore_index=True)\n",
        "datapath"
      ],
      "metadata": {
        "id": "P3rMQKUxL728",
        "outputId": "89641bef-c06d-4d7b-f208-7669788cafb2",
        "colab": {
          "base_uri": "https://localhost:8080/",
          "height": 424
        }
      },
      "execution_count": 14,
      "outputs": [
        {
          "output_type": "execute_result",
          "data": {
            "text/plain": [
              "         Sample                                              Image  Label\n",
              "0         Covid  /content/drive/MyDrive/Covid-19 CT-Scan Model/...      1\n",
              "1         Covid  /content/drive/MyDrive/Covid-19 CT-Scan Model/...      1\n",
              "2     Non-Covid  /content/drive/MyDrive/Covid-19 CT-Scan Model/...      0\n",
              "3     Non-Covid  /content/drive/MyDrive/Covid-19 CT-Scan Model/...      0\n",
              "4         Covid  /content/drive/MyDrive/Covid-19 CT-Scan Model/...      1\n",
              "...         ...                                                ...    ...\n",
              "2477  Non-Covid  /content/drive/MyDrive/Covid-19 CT-Scan Model/...      0\n",
              "2478      Covid  /content/drive/MyDrive/Covid-19 CT-Scan Model/...      1\n",
              "2479      Covid  /content/drive/MyDrive/Covid-19 CT-Scan Model/...      1\n",
              "2480  Non-Covid  /content/drive/MyDrive/Covid-19 CT-Scan Model/...      0\n",
              "2481      Covid  /content/drive/MyDrive/Covid-19 CT-Scan Model/...      1\n",
              "\n",
              "[2482 rows x 3 columns]"
            ],
            "text/html": [
              "\n",
              "  <div id=\"df-4441807f-21c4-4597-b7de-783c2b952a5d\">\n",
              "    <div class=\"colab-df-container\">\n",
              "      <div>\n",
              "<style scoped>\n",
              "    .dataframe tbody tr th:only-of-type {\n",
              "        vertical-align: middle;\n",
              "    }\n",
              "\n",
              "    .dataframe tbody tr th {\n",
              "        vertical-align: top;\n",
              "    }\n",
              "\n",
              "    .dataframe thead th {\n",
              "        text-align: right;\n",
              "    }\n",
              "</style>\n",
              "<table border=\"1\" class=\"dataframe\">\n",
              "  <thead>\n",
              "    <tr style=\"text-align: right;\">\n",
              "      <th></th>\n",
              "      <th>Sample</th>\n",
              "      <th>Image</th>\n",
              "      <th>Label</th>\n",
              "    </tr>\n",
              "  </thead>\n",
              "  <tbody>\n",
              "    <tr>\n",
              "      <th>0</th>\n",
              "      <td>Covid</td>\n",
              "      <td>/content/drive/MyDrive/Covid-19 CT-Scan Model/...</td>\n",
              "      <td>1</td>\n",
              "    </tr>\n",
              "    <tr>\n",
              "      <th>1</th>\n",
              "      <td>Covid</td>\n",
              "      <td>/content/drive/MyDrive/Covid-19 CT-Scan Model/...</td>\n",
              "      <td>1</td>\n",
              "    </tr>\n",
              "    <tr>\n",
              "      <th>2</th>\n",
              "      <td>Non-Covid</td>\n",
              "      <td>/content/drive/MyDrive/Covid-19 CT-Scan Model/...</td>\n",
              "      <td>0</td>\n",
              "    </tr>\n",
              "    <tr>\n",
              "      <th>3</th>\n",
              "      <td>Non-Covid</td>\n",
              "      <td>/content/drive/MyDrive/Covid-19 CT-Scan Model/...</td>\n",
              "      <td>0</td>\n",
              "    </tr>\n",
              "    <tr>\n",
              "      <th>4</th>\n",
              "      <td>Covid</td>\n",
              "      <td>/content/drive/MyDrive/Covid-19 CT-Scan Model/...</td>\n",
              "      <td>1</td>\n",
              "    </tr>\n",
              "    <tr>\n",
              "      <th>...</th>\n",
              "      <td>...</td>\n",
              "      <td>...</td>\n",
              "      <td>...</td>\n",
              "    </tr>\n",
              "    <tr>\n",
              "      <th>2477</th>\n",
              "      <td>Non-Covid</td>\n",
              "      <td>/content/drive/MyDrive/Covid-19 CT-Scan Model/...</td>\n",
              "      <td>0</td>\n",
              "    </tr>\n",
              "    <tr>\n",
              "      <th>2478</th>\n",
              "      <td>Covid</td>\n",
              "      <td>/content/drive/MyDrive/Covid-19 CT-Scan Model/...</td>\n",
              "      <td>1</td>\n",
              "    </tr>\n",
              "    <tr>\n",
              "      <th>2479</th>\n",
              "      <td>Covid</td>\n",
              "      <td>/content/drive/MyDrive/Covid-19 CT-Scan Model/...</td>\n",
              "      <td>1</td>\n",
              "    </tr>\n",
              "    <tr>\n",
              "      <th>2480</th>\n",
              "      <td>Non-Covid</td>\n",
              "      <td>/content/drive/MyDrive/Covid-19 CT-Scan Model/...</td>\n",
              "      <td>0</td>\n",
              "    </tr>\n",
              "    <tr>\n",
              "      <th>2481</th>\n",
              "      <td>Covid</td>\n",
              "      <td>/content/drive/MyDrive/Covid-19 CT-Scan Model/...</td>\n",
              "      <td>1</td>\n",
              "    </tr>\n",
              "  </tbody>\n",
              "</table>\n",
              "<p>2482 rows × 3 columns</p>\n",
              "</div>\n",
              "      <button class=\"colab-df-convert\" onclick=\"convertToInteractive('df-4441807f-21c4-4597-b7de-783c2b952a5d')\"\n",
              "              title=\"Convert this dataframe to an interactive table.\"\n",
              "              style=\"display:none;\">\n",
              "        \n",
              "  <svg xmlns=\"http://www.w3.org/2000/svg\" height=\"24px\"viewBox=\"0 0 24 24\"\n",
              "       width=\"24px\">\n",
              "    <path d=\"M0 0h24v24H0V0z\" fill=\"none\"/>\n",
              "    <path d=\"M18.56 5.44l.94 2.06.94-2.06 2.06-.94-2.06-.94-.94-2.06-.94 2.06-2.06.94zm-11 1L8.5 8.5l.94-2.06 2.06-.94-2.06-.94L8.5 2.5l-.94 2.06-2.06.94zm10 10l.94 2.06.94-2.06 2.06-.94-2.06-.94-.94-2.06-.94 2.06-2.06.94z\"/><path d=\"M17.41 7.96l-1.37-1.37c-.4-.4-.92-.59-1.43-.59-.52 0-1.04.2-1.43.59L10.3 9.45l-7.72 7.72c-.78.78-.78 2.05 0 2.83L4 21.41c.39.39.9.59 1.41.59.51 0 1.02-.2 1.41-.59l7.78-7.78 2.81-2.81c.8-.78.8-2.07 0-2.86zM5.41 20L4 18.59l7.72-7.72 1.47 1.35L5.41 20z\"/>\n",
              "  </svg>\n",
              "      </button>\n",
              "      \n",
              "  <style>\n",
              "    .colab-df-container {\n",
              "      display:flex;\n",
              "      flex-wrap:wrap;\n",
              "      gap: 12px;\n",
              "    }\n",
              "\n",
              "    .colab-df-convert {\n",
              "      background-color: #E8F0FE;\n",
              "      border: none;\n",
              "      border-radius: 50%;\n",
              "      cursor: pointer;\n",
              "      display: none;\n",
              "      fill: #1967D2;\n",
              "      height: 32px;\n",
              "      padding: 0 0 0 0;\n",
              "      width: 32px;\n",
              "    }\n",
              "\n",
              "    .colab-df-convert:hover {\n",
              "      background-color: #E2EBFA;\n",
              "      box-shadow: 0px 1px 2px rgba(60, 64, 67, 0.3), 0px 1px 3px 1px rgba(60, 64, 67, 0.15);\n",
              "      fill: #174EA6;\n",
              "    }\n",
              "\n",
              "    [theme=dark] .colab-df-convert {\n",
              "      background-color: #3B4455;\n",
              "      fill: #D2E3FC;\n",
              "    }\n",
              "\n",
              "    [theme=dark] .colab-df-convert:hover {\n",
              "      background-color: #434B5C;\n",
              "      box-shadow: 0px 1px 3px 1px rgba(0, 0, 0, 0.15);\n",
              "      filter: drop-shadow(0px 1px 2px rgba(0, 0, 0, 0.3));\n",
              "      fill: #FFFFFF;\n",
              "    }\n",
              "  </style>\n",
              "\n",
              "      <script>\n",
              "        const buttonEl =\n",
              "          document.querySelector('#df-4441807f-21c4-4597-b7de-783c2b952a5d button.colab-df-convert');\n",
              "        buttonEl.style.display =\n",
              "          google.colab.kernel.accessAllowed ? 'block' : 'none';\n",
              "\n",
              "        async function convertToInteractive(key) {\n",
              "          const element = document.querySelector('#df-4441807f-21c4-4597-b7de-783c2b952a5d');\n",
              "          const dataTable =\n",
              "            await google.colab.kernel.invokeFunction('convertToInteractive',\n",
              "                                                     [key], {});\n",
              "          if (!dataTable) return;\n",
              "\n",
              "          const docLinkHtml = 'Like what you see? Visit the ' +\n",
              "            '<a target=\"_blank\" href=https://colab.research.google.com/notebooks/data_table.ipynb>data table notebook</a>'\n",
              "            + ' to learn more about interactive tables.';\n",
              "          element.innerHTML = '';\n",
              "          dataTable['output_type'] = 'display_data';\n",
              "          await google.colab.output.renderOutput(dataTable, element);\n",
              "          const docLink = document.createElement('div');\n",
              "          docLink.innerHTML = docLinkHtml;\n",
              "          element.appendChild(docLink);\n",
              "        }\n",
              "      </script>\n",
              "    </div>\n",
              "  </div>\n",
              "  "
            ]
          },
          "metadata": {},
          "execution_count": 14
        }
      ]
    },
    {
      "cell_type": "code",
      "source": [
        "# Testing...\n",
        "image = tf.keras.preprocessing.image.load_img(datapath.loc[0].at['Image'],\n",
        "                                              color_mode='rgb',\n",
        "                                              target_size=(224, 224))\n",
        "image"
      ],
      "metadata": {
        "id": "tXoKrPIwL71I",
        "outputId": "6abc41e8-ba07-48ec-de9e-ce42d6c95645",
        "colab": {
          "base_uri": "https://localhost:8080/",
          "height": 241
        }
      },
      "execution_count": 15,
      "outputs": [
        {
          "output_type": "execute_result",
          "data": {
            "text/plain": [
              "<PIL.Image.Image image mode=RGB size=224x224 at 0x7F3302B1A160>"
            ],
            "image/png": "[encoded data removed]"
          },
          "metadata": {},
          "execution_count": 15
        }
      ]
    },
    {
      "cell_type": "code",
      "source": [
        "image_data = []\n",
        "image_label = []\n",
        "\n",
        "for index, row in datapath.iterrows():\n",
        "  image = tf.keras.preprocessing.image.load_img(datapath.loc[index].at[\"Image\"],\n",
        "                                                color_mode='rgb',\n",
        "                                                target_size=(224, 224))\n",
        "  image = np.array(image)\n",
        "  image_data.append(image)\n",
        "  image_label.append(datapath.loc[index].at['Label'])"
      ],
      "metadata": {
        "id": "Lxy3KUSaL7x3"
      },
      "execution_count": 16,
      "outputs": []
    },
    {
      "cell_type": "code",
      "source": [
        "print(len(image_data))\n",
        "print(len(image_label))"
      ],
      "metadata": {
        "id": "0vXQU_XmL7wC",
        "outputId": "70557651-8fb7-4006-9805-ebd31dceedf8",
        "colab": {
          "base_uri": "https://localhost:8080/"
        }
      },
      "execution_count": 17,
      "outputs": [
        {
          "output_type": "stream",
          "name": "stdout",
          "text": [
            "2482\n",
            "2482\n"
          ]
        }
      ]
    },
    {
      "cell_type": "code",
      "execution_count": 18,
      "metadata": {
        "id": "QZnPGNIShik2"
      },
      "outputs": [],
      "source": [
        "train_data = np.array(image_data[:1737]) # 80 percent\n",
        "val_data = np.array(image_data[1737:2233]) # 20 percent\n",
        "test_data = np.array(image_data[2233:2482]) # 10 percent\n",
        "\n",
        "train_labels = image_label[:1737]\n",
        "val_labels = image_label[1737:2233]\n",
        "test_labels = image_label[2233:2482]"
      ]
    },
    {
      "cell_type": "code",
      "execution_count": 19,
      "metadata": {
        "colab": {
          "base_uri": "https://localhost:8080/"
        },
        "id": "F_e44zRafxSE",
        "outputId": "aa98db09-f7de-4539-a727-3fb79315e288"
      },
      "outputs": [
        {
          "output_type": "execute_result",
          "data": {
            "text/plain": [
              "2482"
            ]
          },
          "metadata": {},
          "execution_count": 19
        }
      ],
      "source": [
        "len(train_labels) + len(val_labels) + len(test_labels)"
      ]
    },
    {
      "cell_type": "code",
      "execution_count": 20,
      "metadata": {
        "id": "u1jwUv9srD4R"
      },
      "outputs": [],
      "source": [
        "# normalize the data\n",
        "X_train = train_data.astype('float32') / 225\n",
        "X_val = val_data.astype('float32') / 225\n",
        "X_test = test_data.astype('float32') / 225"
      ]
    },
    {
      "cell_type": "code",
      "execution_count": 21,
      "metadata": {
        "colab": {
          "base_uri": "https://localhost:8080/"
        },
        "id": "iX475Ucl5jwM",
        "outputId": "e6d3a51b-bf53-452c-9604-7a91faffb65c"
      },
      "outputs": [
        {
          "output_type": "stream",
          "name": "stdout",
          "text": [
            "(1737, 224, 224, 3)\n",
            "(496, 224, 224, 3)\n",
            "(249, 224, 224, 3)\n"
          ]
        }
      ],
      "source": [
        "print(np.shape(X_train))\n",
        "print(np.shape(X_val))\n",
        "print(np.shape(X_test))"
      ]
    },
    {
      "cell_type": "code",
      "execution_count": 22,
      "metadata": {
        "id": "UZiJJzlC3al9"
      },
      "outputs": [],
      "source": [
        "y_train = train_labels\n",
        "y_val = val_labels\n",
        "y_test = test_labels # used against predictions"
      ]
    },
    {
      "cell_type": "code",
      "execution_count": 23,
      "metadata": {
        "id": "HEl1q8fD3KyD"
      },
      "outputs": [],
      "source": [
        "y_train = tf.one_hot(y_train, depth = 2)\n",
        "y_val = tf.one_hot(y_val, depth = 2)\n",
        "y_test = tf.one_hot(y_test, depth = 2)"
      ]
    },
    {
      "cell_type": "code",
      "execution_count": 24,
      "metadata": {
        "colab": {
          "base_uri": "https://localhost:8080/"
        },
        "id": "eCJtHcad4Oqh",
        "outputId": "ac1f1f93-3157-4c80-8f57-23579404867a"
      },
      "outputs": [
        {
          "output_type": "execute_result",
          "data": {
            "text/plain": [
              "(TensorShape([1737, 2]), TensorShape([496, 2]), TensorShape([249, 2]))"
            ]
          },
          "metadata": {},
          "execution_count": 24
        }
      ],
      "source": [
        "np.shape(y_train), np.shape(y_val), np.shape(y_test)"
      ]
    },
    {
      "cell_type": "markdown",
      "metadata": {
        "id": "oLccrg2m7XyT"
      },
      "source": [
        "## Model Implementation\n",
        "* `VGG16` pretrained on Imagenet"
      ]
    },
    {
      "cell_type": "code",
      "execution_count": 25,
      "metadata": {
        "colab": {
          "base_uri": "https://localhost:8080/"
        },
        "id": "3CpyJWpV6Vgm",
        "outputId": "43fb9eea-9b43-4236-cfa5-bb91c7f89458"
      },
      "outputs": [
        {
          "output_type": "stream",
          "name": "stdout",
          "text": [
            "Downloading data from https://storage.googleapis.com/tensorflow/keras-applications/vgg16/vgg16_weights_tf_dim_ordering_tf_kernels_notop.h5\n",
            "58889256/58889256 [==============================] - 0s 0us/step\n",
            "Model: \"vgg16\"\n",
            "_________________________________________________________________\n",
            " Layer (type)                Output Shape              Param #   \n",
            "=================================================================\n",
            " input_1 (InputLayer)        [(None, 224, 224, 3)]     0         \n",
            "                                                                 \n",
            " block1_conv1 (Conv2D)       (None, 224, 224, 64)      1792      \n",
            "                                                                 \n",
            " block1_conv2 (Conv2D)       (None, 224, 224, 64)      36928     \n",
            "                                                                 \n",
            " block1_pool (MaxPooling2D)  (None, 112, 112, 64)      0         \n",
            "                                                                 \n",
            " block2_conv1 (Conv2D)       (None, 112, 112, 128)     73856     \n",
            "                                                                 \n",
            " block2_conv2 (Conv2D)       (None, 112, 112, 128)     147584    \n",
            "                                                                 \n",
            " block2_pool (MaxPooling2D)  (None, 56, 56, 128)       0         \n",
            "                                                                 \n",
            " block3_conv1 (Conv2D)       (None, 56, 56, 256)       295168    \n",
            "                                                                 \n",
            " block3_conv2 (Conv2D)       (None, 56, 56, 256)       590080    \n",
            "                                                                 \n",
            " block3_conv3 (Conv2D)       (None, 56, 56, 256)       590080    \n",
            "                                                                 \n",
            " block3_pool (MaxPooling2D)  (None, 28, 28, 256)       0         \n",
            "                                                                 \n",
            " block4_conv1 (Conv2D)       (None, 28, 28, 512)       1180160   \n",
            "                                                                 \n",
            " block4_conv2 (Conv2D)       (None, 28, 28, 512)       2359808   \n",
            "                                                                 \n",
            " block4_conv3 (Conv2D)       (None, 28, 28, 512)       2359808   \n",
            "                                                                 \n",
            " block4_pool (MaxPooling2D)  (None, 14, 14, 512)       0         \n",
            "                                                                 \n",
            " block5_conv1 (Conv2D)       (None, 14, 14, 512)       2359808   \n",
            "                                                                 \n",
            " block5_conv2 (Conv2D)       (None, 14, 14, 512)       2359808   \n",
            "                                                                 \n",
            " block5_conv3 (Conv2D)       (None, 14, 14, 512)       2359808   \n",
            "                                                                 \n",
            " block5_pool (MaxPooling2D)  (None, 7, 7, 512)         0         \n",
            "                                                                 \n",
            "=================================================================\n",
            "Total params: 14,714,688\n",
            "Trainable params: 14,714,688\n",
            "Non-trainable params: 0\n",
            "_________________________________________________________________\n"
          ]
        }
      ],
      "source": [
        "model = VGG16(weights='imagenet',\n",
        "              include_top=False,\n",
        "              input_shape=(224, 224, 3))\n",
        "model.summary()"
      ]
    },
    {
      "cell_type": "code",
      "execution_count": 26,
      "metadata": {
        "colab": {
          "base_uri": "https://localhost:8080/"
        },
        "id": "_-p5NPYm7GDf",
        "outputId": "a0199b1e-05f6-421e-c3ed-374abb4b0e51"
      },
      "outputs": [
        {
          "output_type": "stream",
          "name": "stdout",
          "text": [
            "0 input_1 False\n",
            "1 block1_conv1 False\n",
            "2 block1_conv2 False\n",
            "3 block1_pool False\n",
            "4 block2_conv1 False\n",
            "5 block2_conv2 False\n",
            "6 block2_pool False\n",
            "7 block3_conv1 False\n",
            "8 block3_conv2 False\n",
            "9 block3_conv3 False\n",
            "10 block3_pool False\n",
            "11 block4_conv1 False\n",
            "12 block4_conv2 False\n",
            "13 block4_conv3 False\n",
            "14 block4_pool False\n",
            "15 block5_conv1 True\n",
            "16 block5_conv2 True\n",
            "17 block5_conv3 True\n",
            "18 block5_pool True\n"
          ]
        }
      ],
      "source": [
        "for layer in model.layers[:15]:\n",
        "  layer.trainable = False\n",
        "\n",
        "for i, layer in enumerate(model.layers):\n",
        "  print(i, layer.name, layer.trainable)"
      ]
    },
    {
      "cell_type": "code",
      "execution_count": 27,
      "metadata": {
        "id": "Hx4LjbiO8B6p"
      },
      "outputs": [],
      "source": [
        "# Creating our model head \n",
        "x = model.output\n",
        "x = layers.Flatten()(x)\n",
        "x = layers.Dense(512, activation='relu')(x)\n",
        "x = layers.Dropout(0.5)(x)\n",
        "x = layers.Dense(256, activation='relu')(x)\n",
        "x = layers.Dense(2, activation='sigmoid')(x)\n",
        "transfer_model = tf.keras.Model(inputs=model.input, outputs=x)"
      ]
    },
    {
      "cell_type": "code",
      "execution_count": 28,
      "metadata": {
        "colab": {
          "base_uri": "https://localhost:8080/",
          "height": 1000
        },
        "id": "lfg4fSwKyGN1",
        "outputId": "ca210c2c-9b93-4872-ebe6-471648d0b024"
      },
      "outputs": [
        {
          "output_type": "execute_result",
          "data": {
            "image/png": "[encoded data removed]",
            "text/plain": [
              "<IPython.core.display.Image object>"
            ]
          },
          "metadata": {},
          "execution_count": 28
        }
      ],
      "source": [
        "plot_model(model, show_shapes=True)"
      ]
    },
    {
      "cell_type": "code",
      "execution_count": 29,
      "metadata": {
        "id": "5GIH8LbbAJww"
      },
      "outputs": [],
      "source": [
        "# defining callbacks\n",
        "lr_reduce = ReduceLROnPlateau(monitor='val_accuracy', factor=0.6,\n",
        "                              patience=8, verbose=1, mode='max', min_lr=1e-5)\n",
        "checkpoint = ModelCheckpoint('/content/drive/MyDrive/Covid-19 CT-Scan Model/Model checkpoints/vgg16_finetune_sarscov2.h15', \n",
        "                             monitor='val_accuracy',\n",
        "                             mode='max', save_best_only=True, verbose=1)\n",
        "earlystopping_val_acc = EarlyStopping(monitor='val_accuracy', patience=10, \n",
        "                                      restore_best_weights=True)\n",
        "earlystopping_val_loss = EarlyStopping(monitor='val_loss', patience=5, \n",
        "                                       restore_best_weights=True)"
      ]
    },
    {
      "cell_type": "code",
      "execution_count": 30,
      "metadata": {
        "colab": {
          "base_uri": "https://localhost:8080/"
        },
        "id": "WWTXZnLN84mi",
        "outputId": "c94b566c-2022-4192-fd5d-510e8d3b3d84"
      },
      "outputs": [
        {
          "output_type": "stream",
          "name": "stderr",
          "text": [
            "/usr/local/lib/python3.8/dist-packages/keras/optimizers/optimizer_v2/adam.py:110: UserWarning: The `lr` argument is deprecated, use `learning_rate` instead.\n",
            "  super(Adam, self).__init__(name, **kwargs)\n"
          ]
        }
      ],
      "source": [
        "learning_rate = 5e-5\n",
        "transfer_model.compile(loss='binary_crossentropy',\n",
        "                       optimizer= optimizers.Adam(lr=learning_rate),\n",
        "                       metrics=['accuracy'])"
      ]
    },
    {
      "cell_type": "code",
      "source": [
        "history = transfer_model.fit(X_train, y_train,\n",
        "                             batch_size=30,\n",
        "                             epochs=50,\n",
        "                             initial_epoch=0,\n",
        "                             shuffle=True,\n",
        "                             validation_data=(X_val, y_val),\n",
        "                             callbacks=[earlystopping_val_acc,\n",
        "                                        earlystopping_val_loss,\n",
        "                                        checkpoint])\n"
      ],
      "metadata": {
        "id": "fXQr2tkGYUBn",
        "outputId": "f4a1a065-e0d7-413e-b3e6-a907c3ea4ca1",
        "colab": {
          "base_uri": "https://localhost:8080/"
        }
      },
      "execution_count": 31,
      "outputs": [
        {
          "output_type": "stream",
          "name": "stdout",
          "text": [
            "Epoch 1/50\n",
            "58/58 [==============================] - ETA: 0s - loss: 0.4988 - accuracy: 0.7478\n",
            "Epoch 1: val_accuracy improved from -inf to 0.88306, saving model to /content/drive/MyDrive/Covid-19 CT-Scan Model/Model checkpoints/vgg16_finetune_sarscov2.h15\n"
          ]
        },
        {
          "output_type": "stream",
          "name": "stderr",
          "text": [
            "WARNING:absl:Found untraced functions such as _jit_compiled_convolution_op, _jit_compiled_convolution_op, _jit_compiled_convolution_op, _jit_compiled_convolution_op, _jit_compiled_convolution_op while saving (showing 5 of 13). These functions will not be directly callable after loading.\n"
          ]
        },
        {
          "output_type": "stream",
          "name": "stdout",
          "text": [
            "\b\b\b\b\b\b\b\b\b\b\b\b\b\b\b\b\b\b\b\b\b\b\b\b\b\b\b\b\b\b\b\b\b\b\b\b\b\b\b\b\b\b\b\b\b\b\b\b\b\b\b\b\b\b\b\b\b\b\b\b\b\b\b\b\b\b\b\b\b\b\b\b\b\b\b\b\b\b\b\b\b\b\r58/58 [==============================] - 33s 375ms/step - loss: 0.4988 - accuracy: 0.7478 - val_loss: 0.2859 - val_accuracy: 0.8831\n",
            "Epoch 2/50\n",
            "58/58 [==============================] - ETA: 0s - loss: 0.2296 - accuracy: 0.9067\n",
            "Epoch 2: val_accuracy improved from 0.88306 to 0.92540, saving model to /content/drive/MyDrive/Covid-19 CT-Scan Model/Model checkpoints/vgg16_finetune_sarscov2.h15\n"
          ]
        },
        {
          "output_type": "stream",
          "name": "stderr",
          "text": [
            "WARNING:absl:Found untraced functions such as _jit_compiled_convolution_op, _jit_compiled_convolution_op, _jit_compiled_convolution_op, _jit_compiled_convolution_op, _jit_compiled_convolution_op while saving (showing 5 of 13). These functions will not be directly callable after loading.\n"
          ]
        },
        {
          "output_type": "stream",
          "name": "stdout",
          "text": [
            "\b\b\b\b\b\b\b\b\b\b\b\b\b\b\b\b\b\b\b\b\b\b\b\b\b\b\b\b\b\b\b\b\b\b\b\b\b\b\b\b\b\b\b\b\b\b\b\b\b\b\b\b\b\b\b\b\b\b\b\b\b\b\b\b\b\b\b\b\b\b\b\b\b\b\b\b\b\b\b\b\b\b\r58/58 [==============================] - 16s 275ms/step - loss: 0.2296 - accuracy: 0.9067 - val_loss: 0.1804 - val_accuracy: 0.9254\n",
            "Epoch 3/50\n",
            "58/58 [==============================] - ETA: 0s - loss: 0.1041 - accuracy: 0.9649\n",
            "Epoch 3: val_accuracy improved from 0.92540 to 0.95968, saving model to /content/drive/MyDrive/Covid-19 CT-Scan Model/Model checkpoints/vgg16_finetune_sarscov2.h15\n"
          ]
        },
        {
          "output_type": "stream",
          "name": "stderr",
          "text": [
            "WARNING:absl:Found untraced functions such as _jit_compiled_convolution_op, _jit_compiled_convolution_op, _jit_compiled_convolution_op, _jit_compiled_convolution_op, _jit_compiled_convolution_op while saving (showing 5 of 13). These functions will not be directly callable after loading.\n"
          ]
        },
        {
          "output_type": "stream",
          "name": "stdout",
          "text": [
            "\b\b\b\b\b\b\b\b\b\b\b\b\b\b\b\b\b\b\b\b\b\b\b\b\b\b\b\b\b\b\b\b\b\b\b\b\b\b\b\b\b\b\b\b\b\b\b\b\b\b\b\b\b\b\b\b\b\b\b\b\b\b\b\b\b\b\b\b\b\b\b\b\b\b\b\b\b\b\b\b\b\b\r58/58 [==============================] - 16s 276ms/step - loss: 0.1041 - accuracy: 0.9649 - val_loss: 0.1180 - val_accuracy: 0.9597\n",
            "Epoch 4/50\n",
            "58/58 [==============================] - ETA: 0s - loss: 0.0783 - accuracy: 0.9735\n",
            "Epoch 4: val_accuracy did not improve from 0.95968\n",
            "58/58 [==============================] - 13s 228ms/step - loss: 0.0783 - accuracy: 0.9735 - val_loss: 0.1064 - val_accuracy: 0.9597\n",
            "Epoch 5/50\n",
            "58/58 [==============================] - ETA: 0s - loss: 0.0240 - accuracy: 0.9942\n",
            "Epoch 5: val_accuracy improved from 0.95968 to 0.96169, saving model to /content/drive/MyDrive/Covid-19 CT-Scan Model/Model checkpoints/vgg16_finetune_sarscov2.h15\n"
          ]
        },
        {
          "output_type": "stream",
          "name": "stderr",
          "text": [
            "WARNING:absl:Found untraced functions such as _jit_compiled_convolution_op, _jit_compiled_convolution_op, _jit_compiled_convolution_op, _jit_compiled_convolution_op, _jit_compiled_convolution_op while saving (showing 5 of 13). These functions will not be directly callable after loading.\n"
          ]
        },
        {
          "output_type": "stream",
          "name": "stdout",
          "text": [
            "\b\b\b\b\b\b\b\b\b\b\b\b\b\b\b\b\b\b\b\b\b\b\b\b\b\b\b\b\b\b\b\b\b\b\b\b\b\b\b\b\b\b\b\b\b\b\b\b\b\b\b\b\b\b\b\b\b\b\b\b\b\b\b\b\b\b\b\b\b\b\b\b\b\b\b\b\b\b\b\b\b\b\r58/58 [==============================] - 17s 287ms/step - loss: 0.0240 - accuracy: 0.9942 - val_loss: 0.1037 - val_accuracy: 0.9617\n",
            "Epoch 6/50\n",
            "58/58 [==============================] - ETA: 0s - loss: 0.0063 - accuracy: 0.9994\n",
            "Epoch 6: val_accuracy improved from 0.96169 to 0.96774, saving model to /content/drive/MyDrive/Covid-19 CT-Scan Model/Model checkpoints/vgg16_finetune_sarscov2.h15\n"
          ]
        },
        {
          "output_type": "stream",
          "name": "stderr",
          "text": [
            "WARNING:absl:Found untraced functions such as _jit_compiled_convolution_op, _jit_compiled_convolution_op, _jit_compiled_convolution_op, _jit_compiled_convolution_op, _jit_compiled_convolution_op while saving (showing 5 of 13). These functions will not be directly callable after loading.\n"
          ]
        },
        {
          "output_type": "stream",
          "name": "stdout",
          "text": [
            "\b\b\b\b\b\b\b\b\b\b\b\b\b\b\b\b\b\b\b\b\b\b\b\b\b\b\b\b\b\b\b\b\b\b\b\b\b\b\b\b\b\b\b\b\b\b\b\b\b\b\b\b\b\b\b\b\b\b\b\b\b\b\b\b\b\b\b\b\b\b\b\b\b\b\b\b\b\b\b\b\b\b\r58/58 [==============================] - 17s 291ms/step - loss: 0.0063 - accuracy: 0.9994 - val_loss: 0.1163 - val_accuracy: 0.9677\n",
            "Epoch 7/50\n",
            "58/58 [==============================] - ETA: 0s - loss: 0.0028 - accuracy: 1.0000\n",
            "Epoch 7: val_accuracy did not improve from 0.96774\n",
            "58/58 [==============================] - 14s 247ms/step - loss: 0.0028 - accuracy: 1.0000 - val_loss: 0.0924 - val_accuracy: 0.9677\n",
            "Epoch 8/50\n",
            "58/58 [==============================] - ETA: 0s - loss: 0.0013 - accuracy: 1.0000\n",
            "Epoch 8: val_accuracy improved from 0.96774 to 0.97581, saving model to /content/drive/MyDrive/Covid-19 CT-Scan Model/Model checkpoints/vgg16_finetune_sarscov2.h15\n"
          ]
        },
        {
          "output_type": "stream",
          "name": "stderr",
          "text": [
            "WARNING:absl:Found untraced functions such as _jit_compiled_convolution_op, _jit_compiled_convolution_op, _jit_compiled_convolution_op, _jit_compiled_convolution_op, _jit_compiled_convolution_op while saving (showing 5 of 13). These functions will not be directly callable after loading.\n"
          ]
        },
        {
          "output_type": "stream",
          "name": "stdout",
          "text": [
            "\b\b\b\b\b\b\b\b\b\b\b\b\b\b\b\b\b\b\b\b\b\b\b\b\b\b\b\b\b\b\b\b\b\b\b\b\b\b\b\b\b\b\b\b\b\b\b\b\b\b\b\b\b\b\b\b\b\b\b\b\b\b\b\b\b\b\b\b\b\b\b\b\b\b\b\b\b\b\b\b\b\b\r58/58 [==============================] - 17s 291ms/step - loss: 0.0013 - accuracy: 1.0000 - val_loss: 0.1014 - val_accuracy: 0.9758\n",
            "Epoch 9/50\n",
            "58/58 [==============================] - ETA: 0s - loss: 0.0026 - accuracy: 1.0000\n",
            "Epoch 9: val_accuracy did not improve from 0.97581\n",
            "58/58 [==============================] - 14s 234ms/step - loss: 0.0026 - accuracy: 1.0000 - val_loss: 0.1298 - val_accuracy: 0.9718\n",
            "Epoch 10/50\n",
            "58/58 [==============================] - ETA: 0s - loss: 7.9207e-04 - accuracy: 1.0000\n",
            "Epoch 10: val_accuracy did not improve from 0.97581\n",
            "58/58 [==============================] - 13s 232ms/step - loss: 7.9207e-04 - accuracy: 1.0000 - val_loss: 0.1547 - val_accuracy: 0.9738\n",
            "Epoch 11/50\n",
            "58/58 [==============================] - ETA: 0s - loss: 5.0375e-04 - accuracy: 1.0000\n",
            "Epoch 11: val_accuracy did not improve from 0.97581\n",
            "58/58 [==============================] - 14s 237ms/step - loss: 5.0375e-04 - accuracy: 1.0000 - val_loss: 0.1388 - val_accuracy: 0.9758\n",
            "Epoch 12/50\n",
            "58/58 [==============================] - ETA: 0s - loss: 3.8788e-04 - accuracy: 1.0000\n",
            "Epoch 12: val_accuracy did not improve from 0.97581\n",
            "58/58 [==============================] - 14s 238ms/step - loss: 3.8788e-04 - accuracy: 1.0000 - val_loss: 0.1393 - val_accuracy: 0.9758\n"
          ]
        }
      ]
    },
    {
      "cell_type": "code",
      "execution_count": 40,
      "metadata": {
        "colab": {
          "base_uri": "https://localhost:8080/"
        },
        "id": "QnDYPVPBIKym",
        "outputId": "f8231b66-0d86-42da-d1f2-2ce9f8994b0d"
      },
      "outputs": [
        {
          "output_type": "stream",
          "name": "stdout",
          "text": [
            "25/25 [==============================] - 2s 63ms/step - loss: 0.1536 - accuracy: 0.9598\n"
          ]
        },
        {
          "output_type": "execute_result",
          "data": {
            "text/plain": [
              "[0.15364229679107666, 0.9598393440246582]"
            ]
          },
          "metadata": {},
          "execution_count": 40
        }
      ],
      "source": [
        "transfer_model.evaluate(X_test, y_test, batch_size=10)"
      ]
    },
    {
      "cell_type": "code",
      "execution_count": 33,
      "metadata": {
        "colab": {
          "base_uri": "https://localhost:8080/",
          "height": 791
        },
        "id": "EU1OdwFkxy-N",
        "outputId": "fc8d9d9e-6692-4105-ce36-e8cb14c248b1"
      },
      "outputs": [
        {
          "output_type": "display_data",
          "data": {
            "text/plain": [
              "<Figure size 720x432 with 1 Axes>"
            ],
            "image/png": "[encoded data removed]"
          },
          "metadata": {
            "needs_background": "light"
          }
        },
        {
          "output_type": "display_data",
          "data": {
            "text/plain": [
              "<Figure size 720x432 with 1 Axes>"
            ],
            "image/png": "[encoded data removed]"
          },
          "metadata": {
            "needs_background": "light"
          }
        }
      ],
      "source": [
        "plot_loss_metrics(history, metrics=['accuracy'])"
      ]
    },
    {
      "cell_type": "code",
      "source": [
        "#transfer_model = keras.models.load_model('/content/drive/MyDrive/Covid-19 CT-Scan Model/Model checkpoints/vgg16_finetune_sarscov2.h15')"
      ],
      "metadata": {
        "id": "Ok9OtrqvcuFV"
      },
      "execution_count": 38,
      "outputs": []
    }
  ],
  "metadata": {
    "colab": {
      "provenance": []
    },
    "gpuClass": "standard",
    "kernelspec": {
      "display_name": "Python 3",
      "name": "python3"
    },
    "language_info": {
      "name": "python"
    },
    "accelerator": "GPU"
  },
  "nbformat": 4,
  "nbformat_minor": 0
}